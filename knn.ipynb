{
  "nbformat": 4,
  "nbformat_minor": 0,
  "metadata": {
    "colab": {
      "provenance": [],
      "authorship_tag": "ABX9TyMZ95/hsujuffZ40rfiKRgp",
      "include_colab_link": true
    },
    "kernelspec": {
      "name": "python3",
      "display_name": "Python 3"
    },
    "language_info": {
      "name": "python"
    }
  },
  "cells": [
    {
      "cell_type": "markdown",
      "metadata": {
        "id": "view-in-github",
        "colab_type": "text"
      },
      "source": [
        "<a href=\"https://colab.research.google.com/github/BBlopusy/machinelearningstudies/blob/main/knn.ipynb\" target=\"_parent\"><img src=\"https://colab.research.google.com/assets/colab-badge.svg\" alt=\"Open In Colab\"/></a>"
      ]
    },
    {
      "cell_type": "markdown",
      "source": [
        "# KNN"
      ],
      "metadata": {
        "id": "Ted0e_FkM65V"
      }
    },
    {
      "cell_type": "code",
      "source": [
        "import pandas as pd\n",
        "import numpy as np\n",
        "from scipy.spatial import KDTree #ogarnie nam algorytm KNN\n",
        "from sklearn.metrics import mean_absolute_error #średni błąd bezwzgledny, policzymy dzięki\n",
        "#temu o ile w naszym przypadku w dolarach są błędne prognozy \n",
        "import random\n",
        "import matplotlib.pyplot as plt\n",
        "\n"
      ],
      "metadata": {
        "id": "RGv7l16WRXCR"
      },
      "execution_count": 30,
      "outputs": []
    },
    {
      "cell_type": "markdown",
      "source": [
        "## Pobranie danych i ich przygotowanie\n",
        "**!wget** to linuksowe polecenie ściągające plik z sieci"
      ],
      "metadata": {
        "id": "wrQmai0nRXmS"
      }
    },
    {
      "cell_type": "code",
      "source": [
        "!wget https://github.com/betacord/ML/raw/master/lab1/data/data.csv"
      ],
      "metadata": {
        "id": "qIM46CUDM_Gu",
        "colab": {
          "base_uri": "https://localhost:8080/"
        },
        "outputId": "f325caa5-5494-4f56-de2e-652a61efa61a"
      },
      "execution_count": 2,
      "outputs": [
        {
          "output_type": "stream",
          "name": "stdout",
          "text": [
            "--2023-04-07 11:31:38--  https://github.com/betacord/ML/raw/master/lab1/data/data.csv\n",
            "Resolving github.com (github.com)... 192.30.255.113\n",
            "Connecting to github.com (github.com)|192.30.255.113|:443... connected.\n",
            "HTTP request sent, awaiting response... 302 Found\n",
            "Location: https://raw.githubusercontent.com/betacord/ML/master/lab1/data/data.csv [following]\n",
            "--2023-04-07 11:31:39--  https://raw.githubusercontent.com/betacord/ML/master/lab1/data/data.csv\n",
            "Resolving raw.githubusercontent.com (raw.githubusercontent.com)... 185.199.108.133, 185.199.109.133, 185.199.110.133, ...\n",
            "Connecting to raw.githubusercontent.com (raw.githubusercontent.com)|185.199.108.133|:443... connected.\n",
            "HTTP request sent, awaiting response... 200 OK\n",
            "Length: 7381541 (7.0M) [text/plain]\n",
            "Saving to: ‘data.csv’\n",
            "\n",
            "data.csv            100%[===================>]   7.04M  --.-KB/s    in 0.06s   \n",
            "\n",
            "2023-04-07 11:31:39 (110 MB/s) - ‘data.csv’ saved [7381541/7381541]\n",
            "\n"
          ]
        }
      ]
    },
    {
      "cell_type": "markdown",
      "source": [
        "### Wczytanie danych "
      ],
      "metadata": {
        "id": "YBHmadUGSH_P"
      }
    },
    {
      "cell_type": "code",
      "source": [
        "houses = pd.read_csv('/content/data.csv')"
      ],
      "metadata": {
        "id": "-UJy7VDcSRs0"
      },
      "execution_count": 3,
      "outputs": []
    },
    {
      "cell_type": "code",
      "source": [
        "houses"
      ],
      "metadata": {
        "colab": {
          "base_uri": "https://localhost:8080/",
          "height": 488
        },
        "id": "u0QpFNw4S5C-",
        "outputId": "bcf630fa-0b69-4e06-e339-2edaf2cffc49"
      },
      "execution_count": 4,
      "outputs": [
        {
          "output_type": "execute_result",
          "data": {
            "text/plain": [
              "       AppraisedValue  SqFtLot  WaterSystem  SewerSystem  Access  Topography  \\\n",
              "0            619000.0  6542712            1            1       4           0   \n",
              "1            708000.0   105850            2            1       3           0   \n",
              "2            297000.0     1667            2            2       4           0   \n",
              "3            523000.0     1872            2            2       4           0   \n",
              "4            288000.0     3480            2            2       4           0   \n",
              "...               ...      ...          ...          ...     ...         ...   \n",
              "52415        523000.0     6982            2            2       4           0   \n",
              "52416        425000.0     5481            2            2       4           0   \n",
              "52417        377000.0     6793            2            2       3           0   \n",
              "52418        581000.0     7200            2            2       4           0   \n",
              "52419        567000.0     7221            2            2       3           0   \n",
              "\n",
              "       StreetSurface  RestrictiveSzShape  InadequateParking  PcntUnusable  \\\n",
              "0                  1                   0                  0             0   \n",
              "1                  2                   0                  0             0   \n",
              "2                  1                   0                  2             0   \n",
              "3                  1                   0                  2             0   \n",
              "4                  1                   0                  0             0   \n",
              "...              ...                 ...                ...           ...   \n",
              "52415              1                   0                  0             0   \n",
              "52416              1                   0                  2             0   \n",
              "52417              1                   0                  0             0   \n",
              "52418              1                   0                  0             0   \n",
              "52419              3                   0                  0             0   \n",
              "\n",
              "       ...  NativeGrowthProtEsmt  Easements  OtherDesignation  \\\n",
              "0      ...                     0          0                 0   \n",
              "1      ...                     0          0                 0   \n",
              "2      ...                     0          0                 0   \n",
              "3      ...                     0          0                 0   \n",
              "4      ...                     0          0                 0   \n",
              "...    ...                   ...        ...               ...   \n",
              "52415  ...                     0          0                 0   \n",
              "52416  ...                     0          0                 0   \n",
              "52417  ...                     0          0                 0   \n",
              "52418  ...                     0          0                 0   \n",
              "52419  ...                     0          0                 0   \n",
              "\n",
              "       DeedRestrictions  DevelopmentRightsPurch  WaterProblems  \\\n",
              "0                     0                       1              0   \n",
              "1                     0                       0              0   \n",
              "2                     0                       0              0   \n",
              "3                     0                       0              0   \n",
              "4                     0                       0              0   \n",
              "...                 ...                     ...            ...   \n",
              "52415                 0                       0              0   \n",
              "52416                 0                       0              0   \n",
              "52417                 0                       0              0   \n",
              "52418                 0                       0              0   \n",
              "52419                 0                       0              0   \n",
              "\n",
              "       TranspConcurrency  OtherProblems        lat        long  \n",
              "0                      0              0  47.354019 -122.225166  \n",
              "1                      0              0  47.611248 -122.053154  \n",
              "2                      0              0  47.701248 -122.365784  \n",
              "3                      0              0  47.537918 -122.392845  \n",
              "4                      0              0  47.510227 -122.182167  \n",
              "...                  ...            ...        ...         ...  \n",
              "52415                  0              0  47.769810 -122.367447  \n",
              "52416                  0              0  47.510895 -122.366936  \n",
              "52417                  0              0  47.766289 -122.358192  \n",
              "52418                  0              0  47.769989 -122.364822  \n",
              "52419                  0              0  39.042558  -89.322143  \n",
              "\n",
              "[52420 rows x 48 columns]"
            ],
            "text/html": [
              "\n",
              "  <div id=\"df-821b433f-b7be-4e90-99d1-83d4aff06af1\">\n",
              "    <div class=\"colab-df-container\">\n",
              "      <div>\n",
              "<style scoped>\n",
              "    .dataframe tbody tr th:only-of-type {\n",
              "        vertical-align: middle;\n",
              "    }\n",
              "\n",
              "    .dataframe tbody tr th {\n",
              "        vertical-align: top;\n",
              "    }\n",
              "\n",
              "    .dataframe thead th {\n",
              "        text-align: right;\n",
              "    }\n",
              "</style>\n",
              "<table border=\"1\" class=\"dataframe\">\n",
              "  <thead>\n",
              "    <tr style=\"text-align: right;\">\n",
              "      <th></th>\n",
              "      <th>AppraisedValue</th>\n",
              "      <th>SqFtLot</th>\n",
              "      <th>WaterSystem</th>\n",
              "      <th>SewerSystem</th>\n",
              "      <th>Access</th>\n",
              "      <th>Topography</th>\n",
              "      <th>StreetSurface</th>\n",
              "      <th>RestrictiveSzShape</th>\n",
              "      <th>InadequateParking</th>\n",
              "      <th>PcntUnusable</th>\n",
              "      <th>...</th>\n",
              "      <th>NativeGrowthProtEsmt</th>\n",
              "      <th>Easements</th>\n",
              "      <th>OtherDesignation</th>\n",
              "      <th>DeedRestrictions</th>\n",
              "      <th>DevelopmentRightsPurch</th>\n",
              "      <th>WaterProblems</th>\n",
              "      <th>TranspConcurrency</th>\n",
              "      <th>OtherProblems</th>\n",
              "      <th>lat</th>\n",
              "      <th>long</th>\n",
              "    </tr>\n",
              "  </thead>\n",
              "  <tbody>\n",
              "    <tr>\n",
              "      <th>0</th>\n",
              "      <td>619000.0</td>\n",
              "      <td>6542712</td>\n",
              "      <td>1</td>\n",
              "      <td>1</td>\n",
              "      <td>4</td>\n",
              "      <td>0</td>\n",
              "      <td>1</td>\n",
              "      <td>0</td>\n",
              "      <td>0</td>\n",
              "      <td>0</td>\n",
              "      <td>...</td>\n",
              "      <td>0</td>\n",
              "      <td>0</td>\n",
              "      <td>0</td>\n",
              "      <td>0</td>\n",
              "      <td>1</td>\n",
              "      <td>0</td>\n",
              "      <td>0</td>\n",
              "      <td>0</td>\n",
              "      <td>47.354019</td>\n",
              "      <td>-122.225166</td>\n",
              "    </tr>\n",
              "    <tr>\n",
              "      <th>1</th>\n",
              "      <td>708000.0</td>\n",
              "      <td>105850</td>\n",
              "      <td>2</td>\n",
              "      <td>1</td>\n",
              "      <td>3</td>\n",
              "      <td>0</td>\n",
              "      <td>2</td>\n",
              "      <td>0</td>\n",
              "      <td>0</td>\n",
              "      <td>0</td>\n",
              "      <td>...</td>\n",
              "      <td>0</td>\n",
              "      <td>0</td>\n",
              "      <td>0</td>\n",
              "      <td>0</td>\n",
              "      <td>0</td>\n",
              "      <td>0</td>\n",
              "      <td>0</td>\n",
              "      <td>0</td>\n",
              "      <td>47.611248</td>\n",
              "      <td>-122.053154</td>\n",
              "    </tr>\n",
              "    <tr>\n",
              "      <th>2</th>\n",
              "      <td>297000.0</td>\n",
              "      <td>1667</td>\n",
              "      <td>2</td>\n",
              "      <td>2</td>\n",
              "      <td>4</td>\n",
              "      <td>0</td>\n",
              "      <td>1</td>\n",
              "      <td>0</td>\n",
              "      <td>2</td>\n",
              "      <td>0</td>\n",
              "      <td>...</td>\n",
              "      <td>0</td>\n",
              "      <td>0</td>\n",
              "      <td>0</td>\n",
              "      <td>0</td>\n",
              "      <td>0</td>\n",
              "      <td>0</td>\n",
              "      <td>0</td>\n",
              "      <td>0</td>\n",
              "      <td>47.701248</td>\n",
              "      <td>-122.365784</td>\n",
              "    </tr>\n",
              "    <tr>\n",
              "      <th>3</th>\n",
              "      <td>523000.0</td>\n",
              "      <td>1872</td>\n",
              "      <td>2</td>\n",
              "      <td>2</td>\n",
              "      <td>4</td>\n",
              "      <td>0</td>\n",
              "      <td>1</td>\n",
              "      <td>0</td>\n",
              "      <td>2</td>\n",
              "      <td>0</td>\n",
              "      <td>...</td>\n",
              "      <td>0</td>\n",
              "      <td>0</td>\n",
              "      <td>0</td>\n",
              "      <td>0</td>\n",
              "      <td>0</td>\n",
              "      <td>0</td>\n",
              "      <td>0</td>\n",
              "      <td>0</td>\n",
              "      <td>47.537918</td>\n",
              "      <td>-122.392845</td>\n",
              "    </tr>\n",
              "    <tr>\n",
              "      <th>4</th>\n",
              "      <td>288000.0</td>\n",
              "      <td>3480</td>\n",
              "      <td>2</td>\n",
              "      <td>2</td>\n",
              "      <td>4</td>\n",
              "      <td>0</td>\n",
              "      <td>1</td>\n",
              "      <td>0</td>\n",
              "      <td>0</td>\n",
              "      <td>0</td>\n",
              "      <td>...</td>\n",
              "      <td>0</td>\n",
              "      <td>0</td>\n",
              "      <td>0</td>\n",
              "      <td>0</td>\n",
              "      <td>0</td>\n",
              "      <td>0</td>\n",
              "      <td>0</td>\n",
              "      <td>0</td>\n",
              "      <td>47.510227</td>\n",
              "      <td>-122.182167</td>\n",
              "    </tr>\n",
              "    <tr>\n",
              "      <th>...</th>\n",
              "      <td>...</td>\n",
              "      <td>...</td>\n",
              "      <td>...</td>\n",
              "      <td>...</td>\n",
              "      <td>...</td>\n",
              "      <td>...</td>\n",
              "      <td>...</td>\n",
              "      <td>...</td>\n",
              "      <td>...</td>\n",
              "      <td>...</td>\n",
              "      <td>...</td>\n",
              "      <td>...</td>\n",
              "      <td>...</td>\n",
              "      <td>...</td>\n",
              "      <td>...</td>\n",
              "      <td>...</td>\n",
              "      <td>...</td>\n",
              "      <td>...</td>\n",
              "      <td>...</td>\n",
              "      <td>...</td>\n",
              "      <td>...</td>\n",
              "    </tr>\n",
              "    <tr>\n",
              "      <th>52415</th>\n",
              "      <td>523000.0</td>\n",
              "      <td>6982</td>\n",
              "      <td>2</td>\n",
              "      <td>2</td>\n",
              "      <td>4</td>\n",
              "      <td>0</td>\n",
              "      <td>1</td>\n",
              "      <td>0</td>\n",
              "      <td>0</td>\n",
              "      <td>0</td>\n",
              "      <td>...</td>\n",
              "      <td>0</td>\n",
              "      <td>0</td>\n",
              "      <td>0</td>\n",
              "      <td>0</td>\n",
              "      <td>0</td>\n",
              "      <td>0</td>\n",
              "      <td>0</td>\n",
              "      <td>0</td>\n",
              "      <td>47.769810</td>\n",
              "      <td>-122.367447</td>\n",
              "    </tr>\n",
              "    <tr>\n",
              "      <th>52416</th>\n",
              "      <td>425000.0</td>\n",
              "      <td>5481</td>\n",
              "      <td>2</td>\n",
              "      <td>2</td>\n",
              "      <td>4</td>\n",
              "      <td>0</td>\n",
              "      <td>1</td>\n",
              "      <td>0</td>\n",
              "      <td>2</td>\n",
              "      <td>0</td>\n",
              "      <td>...</td>\n",
              "      <td>0</td>\n",
              "      <td>0</td>\n",
              "      <td>0</td>\n",
              "      <td>0</td>\n",
              "      <td>0</td>\n",
              "      <td>0</td>\n",
              "      <td>0</td>\n",
              "      <td>0</td>\n",
              "      <td>47.510895</td>\n",
              "      <td>-122.366936</td>\n",
              "    </tr>\n",
              "    <tr>\n",
              "      <th>52417</th>\n",
              "      <td>377000.0</td>\n",
              "      <td>6793</td>\n",
              "      <td>2</td>\n",
              "      <td>2</td>\n",
              "      <td>3</td>\n",
              "      <td>0</td>\n",
              "      <td>1</td>\n",
              "      <td>0</td>\n",
              "      <td>0</td>\n",
              "      <td>0</td>\n",
              "      <td>...</td>\n",
              "      <td>0</td>\n",
              "      <td>0</td>\n",
              "      <td>0</td>\n",
              "      <td>0</td>\n",
              "      <td>0</td>\n",
              "      <td>0</td>\n",
              "      <td>0</td>\n",
              "      <td>0</td>\n",
              "      <td>47.766289</td>\n",
              "      <td>-122.358192</td>\n",
              "    </tr>\n",
              "    <tr>\n",
              "      <th>52418</th>\n",
              "      <td>581000.0</td>\n",
              "      <td>7200</td>\n",
              "      <td>2</td>\n",
              "      <td>2</td>\n",
              "      <td>4</td>\n",
              "      <td>0</td>\n",
              "      <td>1</td>\n",
              "      <td>0</td>\n",
              "      <td>0</td>\n",
              "      <td>0</td>\n",
              "      <td>...</td>\n",
              "      <td>0</td>\n",
              "      <td>0</td>\n",
              "      <td>0</td>\n",
              "      <td>0</td>\n",
              "      <td>0</td>\n",
              "      <td>0</td>\n",
              "      <td>0</td>\n",
              "      <td>0</td>\n",
              "      <td>47.769989</td>\n",
              "      <td>-122.364822</td>\n",
              "    </tr>\n",
              "    <tr>\n",
              "      <th>52419</th>\n",
              "      <td>567000.0</td>\n",
              "      <td>7221</td>\n",
              "      <td>2</td>\n",
              "      <td>2</td>\n",
              "      <td>3</td>\n",
              "      <td>0</td>\n",
              "      <td>3</td>\n",
              "      <td>0</td>\n",
              "      <td>0</td>\n",
              "      <td>0</td>\n",
              "      <td>...</td>\n",
              "      <td>0</td>\n",
              "      <td>0</td>\n",
              "      <td>0</td>\n",
              "      <td>0</td>\n",
              "      <td>0</td>\n",
              "      <td>0</td>\n",
              "      <td>0</td>\n",
              "      <td>0</td>\n",
              "      <td>39.042558</td>\n",
              "      <td>-89.322143</td>\n",
              "    </tr>\n",
              "  </tbody>\n",
              "</table>\n",
              "<p>52420 rows × 48 columns</p>\n",
              "</div>\n",
              "      <button class=\"colab-df-convert\" onclick=\"convertToInteractive('df-821b433f-b7be-4e90-99d1-83d4aff06af1')\"\n",
              "              title=\"Convert this dataframe to an interactive table.\"\n",
              "              style=\"display:none;\">\n",
              "        \n",
              "  <svg xmlns=\"http://www.w3.org/2000/svg\" height=\"24px\"viewBox=\"0 0 24 24\"\n",
              "       width=\"24px\">\n",
              "    <path d=\"M0 0h24v24H0V0z\" fill=\"none\"/>\n",
              "    <path d=\"M18.56 5.44l.94 2.06.94-2.06 2.06-.94-2.06-.94-.94-2.06-.94 2.06-2.06.94zm-11 1L8.5 8.5l.94-2.06 2.06-.94-2.06-.94L8.5 2.5l-.94 2.06-2.06.94zm10 10l.94 2.06.94-2.06 2.06-.94-2.06-.94-.94-2.06-.94 2.06-2.06.94z\"/><path d=\"M17.41 7.96l-1.37-1.37c-.4-.4-.92-.59-1.43-.59-.52 0-1.04.2-1.43.59L10.3 9.45l-7.72 7.72c-.78.78-.78 2.05 0 2.83L4 21.41c.39.39.9.59 1.41.59.51 0 1.02-.2 1.41-.59l7.78-7.78 2.81-2.81c.8-.78.8-2.07 0-2.86zM5.41 20L4 18.59l7.72-7.72 1.47 1.35L5.41 20z\"/>\n",
              "  </svg>\n",
              "      </button>\n",
              "      \n",
              "  <style>\n",
              "    .colab-df-container {\n",
              "      display:flex;\n",
              "      flex-wrap:wrap;\n",
              "      gap: 12px;\n",
              "    }\n",
              "\n",
              "    .colab-df-convert {\n",
              "      background-color: #E8F0FE;\n",
              "      border: none;\n",
              "      border-radius: 50%;\n",
              "      cursor: pointer;\n",
              "      display: none;\n",
              "      fill: #1967D2;\n",
              "      height: 32px;\n",
              "      padding: 0 0 0 0;\n",
              "      width: 32px;\n",
              "    }\n",
              "\n",
              "    .colab-df-convert:hover {\n",
              "      background-color: #E2EBFA;\n",
              "      box-shadow: 0px 1px 2px rgba(60, 64, 67, 0.3), 0px 1px 3px 1px rgba(60, 64, 67, 0.15);\n",
              "      fill: #174EA6;\n",
              "    }\n",
              "\n",
              "    [theme=dark] .colab-df-convert {\n",
              "      background-color: #3B4455;\n",
              "      fill: #D2E3FC;\n",
              "    }\n",
              "\n",
              "    [theme=dark] .colab-df-convert:hover {\n",
              "      background-color: #434B5C;\n",
              "      box-shadow: 0px 1px 3px 1px rgba(0, 0, 0, 0.15);\n",
              "      filter: drop-shadow(0px 1px 2px rgba(0, 0, 0, 0.3));\n",
              "      fill: #FFFFFF;\n",
              "    }\n",
              "  </style>\n",
              "\n",
              "      <script>\n",
              "        const buttonEl =\n",
              "          document.querySelector('#df-821b433f-b7be-4e90-99d1-83d4aff06af1 button.colab-df-convert');\n",
              "        buttonEl.style.display =\n",
              "          google.colab.kernel.accessAllowed ? 'block' : 'none';\n",
              "\n",
              "        async function convertToInteractive(key) {\n",
              "          const element = document.querySelector('#df-821b433f-b7be-4e90-99d1-83d4aff06af1');\n",
              "          const dataTable =\n",
              "            await google.colab.kernel.invokeFunction('convertToInteractive',\n",
              "                                                     [key], {});\n",
              "          if (!dataTable) return;\n",
              "\n",
              "          const docLinkHtml = 'Like what you see? Visit the ' +\n",
              "            '<a target=\"_blank\" href=https://colab.research.google.com/notebooks/data_table.ipynb>data table notebook</a>'\n",
              "            + ' to learn more about interactive tables.';\n",
              "          element.innerHTML = '';\n",
              "          dataTable['output_type'] = 'display_data';\n",
              "          await google.colab.output.renderOutput(dataTable, element);\n",
              "          const docLink = document.createElement('div');\n",
              "          docLink.innerHTML = docLinkHtml;\n",
              "          element.appendChild(docLink);\n",
              "        }\n",
              "      </script>\n",
              "    </div>\n",
              "  </div>\n",
              "  "
            ]
          },
          "metadata": {},
          "execution_count": 4
        }
      ]
    },
    {
      "cell_type": "markdown",
      "source": [
        "Wyświetlenie kolumn i wczytanie ich w czystej postaci tablicy numphy:"
      ],
      "metadata": {
        "id": "q9gX5jm7TaMe"
      }
    },
    {
      "cell_type": "code",
      "source": [
        "houses.columns.values"
      ],
      "metadata": {
        "colab": {
          "base_uri": "https://localhost:8080/"
        },
        "id": "5fMtYXI2TSML",
        "outputId": "ef231a4f-31b2-453d-e948-53b97e63dfa5"
      },
      "execution_count": 5,
      "outputs": [
        {
          "output_type": "execute_result",
          "data": {
            "text/plain": [
              "array(['AppraisedValue', 'SqFtLot', 'WaterSystem', 'SewerSystem',\n",
              "       'Access', 'Topography', 'StreetSurface', 'RestrictiveSzShape',\n",
              "       'InadequateParking', 'PcntUnusable', 'MtRainier', 'Olympics',\n",
              "       'Cascades', 'Territorial', 'SeattleSkyline', 'PugetSound',\n",
              "       'LakeWashington', 'LakeSammamish', 'SmallLakeRiverCreek',\n",
              "       'OtherView', 'WfntLocation', 'WfntFootage', 'WfntBank',\n",
              "       'WfntPoorQuality', 'WfntRestrictedAccess', 'WfntAccessRights',\n",
              "       'WfntProximityInfluence', 'TidelandShoreland', 'LotDepthFactor',\n",
              "       'TrafficNoise', 'PowerLines', 'OtherNuisances', 'NbrBldgSites',\n",
              "       'Contamination', 'AdjacentGolfFairway', 'AdjacentGreenbelt',\n",
              "       'HistoricSite', 'CurrentUseDesignation', 'NativeGrowthProtEsmt',\n",
              "       'Easements', 'OtherDesignation', 'DeedRestrictions',\n",
              "       'DevelopmentRightsPurch', 'WaterProblems', 'TranspConcurrency',\n",
              "       'OtherProblems', 'lat', 'long'], dtype=object)"
            ]
          },
          "metadata": {},
          "execution_count": 5
        }
      ]
    },
    {
      "cell_type": "markdown",
      "source": [
        "### Selekcja atrybutów"
      ],
      "metadata": {
        "id": "dpf_zClVVe-v"
      }
    },
    {
      "cell_type": "markdown",
      "source": [
        "Selekcja atrybutów, wybieramy te które nas interesują ⛱ \n",
        "Czyli wartość, wielkość działki, system nawadniający itd.\n",
        "My wybierzemy dokładnie za radą ekspertów: wielkość działki i współrzędne geograficzne. Nie wpływają w sposób liniowy. Będziemy próbować przewidzieć wartość czyli AppraisedValue na podstawie SqFtlot i współrzednych geograficznych czyli lat i long. \n"
      ],
      "metadata": {
        "id": "ynnuJ5R9T_YO"
      }
    },
    {
      "cell_type": "code",
      "source": [
        "# wyodrębnienie atrybutu decyzyjnego\n",
        "values = houses['AppraisedValue']\n",
        "# usuwamy go z systemu decyjnego, tworząc w ten sposób system informacyjny\n",
        "houses.drop('AppraisedValue',1, inplace=True) \n",
        "#wskazujemy czy chcemy usunąć po osi wierszy czy po osi kolumn, my wskazujemy że po osi kolumn\n",
        "#dlatego dajemy w parametrze axis wartość: 1\n",
        "#nie chcemy zwróconej kopi tej ramki tylko żeby została zastąpiona oryginalna parametrem inplance =True\n"
      ],
      "metadata": {
        "id": "VwggWKCfV3oO",
        "colab": {
          "base_uri": "https://localhost:8080/"
        },
        "outputId": "010ed4c6-21e7-4a39-a0d1-dda1e756de4a"
      },
      "execution_count": 6,
      "outputs": [
        {
          "output_type": "stream",
          "name": "stderr",
          "text": [
            "<ipython-input-6-e2790199a246>:4: FutureWarning: In a future version of pandas all arguments of DataFrame.drop except for the argument 'labels' will be keyword-only.\n",
            "  houses.drop('AppraisedValue',1, inplace=True)\n"
          ]
        }
      ]
    },
    {
      "cell_type": "code",
      "source": [
        "houses"
      ],
      "metadata": {
        "colab": {
          "base_uri": "https://localhost:8080/",
          "height": 488
        },
        "id": "7Fnojz6uZGEQ",
        "outputId": "7792ffa3-d9ca-4376-fbaa-e78839bf61a4"
      },
      "execution_count": 7,
      "outputs": [
        {
          "output_type": "execute_result",
          "data": {
            "text/plain": [
              "       SqFtLot  WaterSystem  SewerSystem  Access  Topography  StreetSurface  \\\n",
              "0      6542712            1            1       4           0              1   \n",
              "1       105850            2            1       3           0              2   \n",
              "2         1667            2            2       4           0              1   \n",
              "3         1872            2            2       4           0              1   \n",
              "4         3480            2            2       4           0              1   \n",
              "...        ...          ...          ...     ...         ...            ...   \n",
              "52415     6982            2            2       4           0              1   \n",
              "52416     5481            2            2       4           0              1   \n",
              "52417     6793            2            2       3           0              1   \n",
              "52418     7200            2            2       4           0              1   \n",
              "52419     7221            2            2       3           0              3   \n",
              "\n",
              "       RestrictiveSzShape  InadequateParking  PcntUnusable  MtRainier  ...  \\\n",
              "0                       0                  0             0          0  ...   \n",
              "1                       0                  0             0          0  ...   \n",
              "2                       0                  2             0          0  ...   \n",
              "3                       0                  2             0          0  ...   \n",
              "4                       0                  0             0          0  ...   \n",
              "...                   ...                ...           ...        ...  ...   \n",
              "52415                   0                  0             0          0  ...   \n",
              "52416                   0                  2             0          0  ...   \n",
              "52417                   0                  0             0          0  ...   \n",
              "52418                   0                  0             0          0  ...   \n",
              "52419                   0                  0             0          0  ...   \n",
              "\n",
              "       NativeGrowthProtEsmt  Easements  OtherDesignation  DeedRestrictions  \\\n",
              "0                         0          0                 0                 0   \n",
              "1                         0          0                 0                 0   \n",
              "2                         0          0                 0                 0   \n",
              "3                         0          0                 0                 0   \n",
              "4                         0          0                 0                 0   \n",
              "...                     ...        ...               ...               ...   \n",
              "52415                     0          0                 0                 0   \n",
              "52416                     0          0                 0                 0   \n",
              "52417                     0          0                 0                 0   \n",
              "52418                     0          0                 0                 0   \n",
              "52419                     0          0                 0                 0   \n",
              "\n",
              "       DevelopmentRightsPurch  WaterProblems  TranspConcurrency  \\\n",
              "0                           1              0                  0   \n",
              "1                           0              0                  0   \n",
              "2                           0              0                  0   \n",
              "3                           0              0                  0   \n",
              "4                           0              0                  0   \n",
              "...                       ...            ...                ...   \n",
              "52415                       0              0                  0   \n",
              "52416                       0              0                  0   \n",
              "52417                       0              0                  0   \n",
              "52418                       0              0                  0   \n",
              "52419                       0              0                  0   \n",
              "\n",
              "       OtherProblems        lat        long  \n",
              "0                  0  47.354019 -122.225166  \n",
              "1                  0  47.611248 -122.053154  \n",
              "2                  0  47.701248 -122.365784  \n",
              "3                  0  47.537918 -122.392845  \n",
              "4                  0  47.510227 -122.182167  \n",
              "...              ...        ...         ...  \n",
              "52415              0  47.769810 -122.367447  \n",
              "52416              0  47.510895 -122.366936  \n",
              "52417              0  47.766289 -122.358192  \n",
              "52418              0  47.769989 -122.364822  \n",
              "52419              0  39.042558  -89.322143  \n",
              "\n",
              "[52420 rows x 47 columns]"
            ],
            "text/html": [
              "\n",
              "  <div id=\"df-c3952fcf-a779-4341-b694-54ee6e1c763d\">\n",
              "    <div class=\"colab-df-container\">\n",
              "      <div>\n",
              "<style scoped>\n",
              "    .dataframe tbody tr th:only-of-type {\n",
              "        vertical-align: middle;\n",
              "    }\n",
              "\n",
              "    .dataframe tbody tr th {\n",
              "        vertical-align: top;\n",
              "    }\n",
              "\n",
              "    .dataframe thead th {\n",
              "        text-align: right;\n",
              "    }\n",
              "</style>\n",
              "<table border=\"1\" class=\"dataframe\">\n",
              "  <thead>\n",
              "    <tr style=\"text-align: right;\">\n",
              "      <th></th>\n",
              "      <th>SqFtLot</th>\n",
              "      <th>WaterSystem</th>\n",
              "      <th>SewerSystem</th>\n",
              "      <th>Access</th>\n",
              "      <th>Topography</th>\n",
              "      <th>StreetSurface</th>\n",
              "      <th>RestrictiveSzShape</th>\n",
              "      <th>InadequateParking</th>\n",
              "      <th>PcntUnusable</th>\n",
              "      <th>MtRainier</th>\n",
              "      <th>...</th>\n",
              "      <th>NativeGrowthProtEsmt</th>\n",
              "      <th>Easements</th>\n",
              "      <th>OtherDesignation</th>\n",
              "      <th>DeedRestrictions</th>\n",
              "      <th>DevelopmentRightsPurch</th>\n",
              "      <th>WaterProblems</th>\n",
              "      <th>TranspConcurrency</th>\n",
              "      <th>OtherProblems</th>\n",
              "      <th>lat</th>\n",
              "      <th>long</th>\n",
              "    </tr>\n",
              "  </thead>\n",
              "  <tbody>\n",
              "    <tr>\n",
              "      <th>0</th>\n",
              "      <td>6542712</td>\n",
              "      <td>1</td>\n",
              "      <td>1</td>\n",
              "      <td>4</td>\n",
              "      <td>0</td>\n",
              "      <td>1</td>\n",
              "      <td>0</td>\n",
              "      <td>0</td>\n",
              "      <td>0</td>\n",
              "      <td>0</td>\n",
              "      <td>...</td>\n",
              "      <td>0</td>\n",
              "      <td>0</td>\n",
              "      <td>0</td>\n",
              "      <td>0</td>\n",
              "      <td>1</td>\n",
              "      <td>0</td>\n",
              "      <td>0</td>\n",
              "      <td>0</td>\n",
              "      <td>47.354019</td>\n",
              "      <td>-122.225166</td>\n",
              "    </tr>\n",
              "    <tr>\n",
              "      <th>1</th>\n",
              "      <td>105850</td>\n",
              "      <td>2</td>\n",
              "      <td>1</td>\n",
              "      <td>3</td>\n",
              "      <td>0</td>\n",
              "      <td>2</td>\n",
              "      <td>0</td>\n",
              "      <td>0</td>\n",
              "      <td>0</td>\n",
              "      <td>0</td>\n",
              "      <td>...</td>\n",
              "      <td>0</td>\n",
              "      <td>0</td>\n",
              "      <td>0</td>\n",
              "      <td>0</td>\n",
              "      <td>0</td>\n",
              "      <td>0</td>\n",
              "      <td>0</td>\n",
              "      <td>0</td>\n",
              "      <td>47.611248</td>\n",
              "      <td>-122.053154</td>\n",
              "    </tr>\n",
              "    <tr>\n",
              "      <th>2</th>\n",
              "      <td>1667</td>\n",
              "      <td>2</td>\n",
              "      <td>2</td>\n",
              "      <td>4</td>\n",
              "      <td>0</td>\n",
              "      <td>1</td>\n",
              "      <td>0</td>\n",
              "      <td>2</td>\n",
              "      <td>0</td>\n",
              "      <td>0</td>\n",
              "      <td>...</td>\n",
              "      <td>0</td>\n",
              "      <td>0</td>\n",
              "      <td>0</td>\n",
              "      <td>0</td>\n",
              "      <td>0</td>\n",
              "      <td>0</td>\n",
              "      <td>0</td>\n",
              "      <td>0</td>\n",
              "      <td>47.701248</td>\n",
              "      <td>-122.365784</td>\n",
              "    </tr>\n",
              "    <tr>\n",
              "      <th>3</th>\n",
              "      <td>1872</td>\n",
              "      <td>2</td>\n",
              "      <td>2</td>\n",
              "      <td>4</td>\n",
              "      <td>0</td>\n",
              "      <td>1</td>\n",
              "      <td>0</td>\n",
              "      <td>2</td>\n",
              "      <td>0</td>\n",
              "      <td>0</td>\n",
              "      <td>...</td>\n",
              "      <td>0</td>\n",
              "      <td>0</td>\n",
              "      <td>0</td>\n",
              "      <td>0</td>\n",
              "      <td>0</td>\n",
              "      <td>0</td>\n",
              "      <td>0</td>\n",
              "      <td>0</td>\n",
              "      <td>47.537918</td>\n",
              "      <td>-122.392845</td>\n",
              "    </tr>\n",
              "    <tr>\n",
              "      <th>4</th>\n",
              "      <td>3480</td>\n",
              "      <td>2</td>\n",
              "      <td>2</td>\n",
              "      <td>4</td>\n",
              "      <td>0</td>\n",
              "      <td>1</td>\n",
              "      <td>0</td>\n",
              "      <td>0</td>\n",
              "      <td>0</td>\n",
              "      <td>0</td>\n",
              "      <td>...</td>\n",
              "      <td>0</td>\n",
              "      <td>0</td>\n",
              "      <td>0</td>\n",
              "      <td>0</td>\n",
              "      <td>0</td>\n",
              "      <td>0</td>\n",
              "      <td>0</td>\n",
              "      <td>0</td>\n",
              "      <td>47.510227</td>\n",
              "      <td>-122.182167</td>\n",
              "    </tr>\n",
              "    <tr>\n",
              "      <th>...</th>\n",
              "      <td>...</td>\n",
              "      <td>...</td>\n",
              "      <td>...</td>\n",
              "      <td>...</td>\n",
              "      <td>...</td>\n",
              "      <td>...</td>\n",
              "      <td>...</td>\n",
              "      <td>...</td>\n",
              "      <td>...</td>\n",
              "      <td>...</td>\n",
              "      <td>...</td>\n",
              "      <td>...</td>\n",
              "      <td>...</td>\n",
              "      <td>...</td>\n",
              "      <td>...</td>\n",
              "      <td>...</td>\n",
              "      <td>...</td>\n",
              "      <td>...</td>\n",
              "      <td>...</td>\n",
              "      <td>...</td>\n",
              "      <td>...</td>\n",
              "    </tr>\n",
              "    <tr>\n",
              "      <th>52415</th>\n",
              "      <td>6982</td>\n",
              "      <td>2</td>\n",
              "      <td>2</td>\n",
              "      <td>4</td>\n",
              "      <td>0</td>\n",
              "      <td>1</td>\n",
              "      <td>0</td>\n",
              "      <td>0</td>\n",
              "      <td>0</td>\n",
              "      <td>0</td>\n",
              "      <td>...</td>\n",
              "      <td>0</td>\n",
              "      <td>0</td>\n",
              "      <td>0</td>\n",
              "      <td>0</td>\n",
              "      <td>0</td>\n",
              "      <td>0</td>\n",
              "      <td>0</td>\n",
              "      <td>0</td>\n",
              "      <td>47.769810</td>\n",
              "      <td>-122.367447</td>\n",
              "    </tr>\n",
              "    <tr>\n",
              "      <th>52416</th>\n",
              "      <td>5481</td>\n",
              "      <td>2</td>\n",
              "      <td>2</td>\n",
              "      <td>4</td>\n",
              "      <td>0</td>\n",
              "      <td>1</td>\n",
              "      <td>0</td>\n",
              "      <td>2</td>\n",
              "      <td>0</td>\n",
              "      <td>0</td>\n",
              "      <td>...</td>\n",
              "      <td>0</td>\n",
              "      <td>0</td>\n",
              "      <td>0</td>\n",
              "      <td>0</td>\n",
              "      <td>0</td>\n",
              "      <td>0</td>\n",
              "      <td>0</td>\n",
              "      <td>0</td>\n",
              "      <td>47.510895</td>\n",
              "      <td>-122.366936</td>\n",
              "    </tr>\n",
              "    <tr>\n",
              "      <th>52417</th>\n",
              "      <td>6793</td>\n",
              "      <td>2</td>\n",
              "      <td>2</td>\n",
              "      <td>3</td>\n",
              "      <td>0</td>\n",
              "      <td>1</td>\n",
              "      <td>0</td>\n",
              "      <td>0</td>\n",
              "      <td>0</td>\n",
              "      <td>0</td>\n",
              "      <td>...</td>\n",
              "      <td>0</td>\n",
              "      <td>0</td>\n",
              "      <td>0</td>\n",
              "      <td>0</td>\n",
              "      <td>0</td>\n",
              "      <td>0</td>\n",
              "      <td>0</td>\n",
              "      <td>0</td>\n",
              "      <td>47.766289</td>\n",
              "      <td>-122.358192</td>\n",
              "    </tr>\n",
              "    <tr>\n",
              "      <th>52418</th>\n",
              "      <td>7200</td>\n",
              "      <td>2</td>\n",
              "      <td>2</td>\n",
              "      <td>4</td>\n",
              "      <td>0</td>\n",
              "      <td>1</td>\n",
              "      <td>0</td>\n",
              "      <td>0</td>\n",
              "      <td>0</td>\n",
              "      <td>0</td>\n",
              "      <td>...</td>\n",
              "      <td>0</td>\n",
              "      <td>0</td>\n",
              "      <td>0</td>\n",
              "      <td>0</td>\n",
              "      <td>0</td>\n",
              "      <td>0</td>\n",
              "      <td>0</td>\n",
              "      <td>0</td>\n",
              "      <td>47.769989</td>\n",
              "      <td>-122.364822</td>\n",
              "    </tr>\n",
              "    <tr>\n",
              "      <th>52419</th>\n",
              "      <td>7221</td>\n",
              "      <td>2</td>\n",
              "      <td>2</td>\n",
              "      <td>3</td>\n",
              "      <td>0</td>\n",
              "      <td>3</td>\n",
              "      <td>0</td>\n",
              "      <td>0</td>\n",
              "      <td>0</td>\n",
              "      <td>0</td>\n",
              "      <td>...</td>\n",
              "      <td>0</td>\n",
              "      <td>0</td>\n",
              "      <td>0</td>\n",
              "      <td>0</td>\n",
              "      <td>0</td>\n",
              "      <td>0</td>\n",
              "      <td>0</td>\n",
              "      <td>0</td>\n",
              "      <td>39.042558</td>\n",
              "      <td>-89.322143</td>\n",
              "    </tr>\n",
              "  </tbody>\n",
              "</table>\n",
              "<p>52420 rows × 47 columns</p>\n",
              "</div>\n",
              "      <button class=\"colab-df-convert\" onclick=\"convertToInteractive('df-c3952fcf-a779-4341-b694-54ee6e1c763d')\"\n",
              "              title=\"Convert this dataframe to an interactive table.\"\n",
              "              style=\"display:none;\">\n",
              "        \n",
              "  <svg xmlns=\"http://www.w3.org/2000/svg\" height=\"24px\"viewBox=\"0 0 24 24\"\n",
              "       width=\"24px\">\n",
              "    <path d=\"M0 0h24v24H0V0z\" fill=\"none\"/>\n",
              "    <path d=\"M18.56 5.44l.94 2.06.94-2.06 2.06-.94-2.06-.94-.94-2.06-.94 2.06-2.06.94zm-11 1L8.5 8.5l.94-2.06 2.06-.94-2.06-.94L8.5 2.5l-.94 2.06-2.06.94zm10 10l.94 2.06.94-2.06 2.06-.94-2.06-.94-.94-2.06-.94 2.06-2.06.94z\"/><path d=\"M17.41 7.96l-1.37-1.37c-.4-.4-.92-.59-1.43-.59-.52 0-1.04.2-1.43.59L10.3 9.45l-7.72 7.72c-.78.78-.78 2.05 0 2.83L4 21.41c.39.39.9.59 1.41.59.51 0 1.02-.2 1.41-.59l7.78-7.78 2.81-2.81c.8-.78.8-2.07 0-2.86zM5.41 20L4 18.59l7.72-7.72 1.47 1.35L5.41 20z\"/>\n",
              "  </svg>\n",
              "      </button>\n",
              "      \n",
              "  <style>\n",
              "    .colab-df-container {\n",
              "      display:flex;\n",
              "      flex-wrap:wrap;\n",
              "      gap: 12px;\n",
              "    }\n",
              "\n",
              "    .colab-df-convert {\n",
              "      background-color: #E8F0FE;\n",
              "      border: none;\n",
              "      border-radius: 50%;\n",
              "      cursor: pointer;\n",
              "      display: none;\n",
              "      fill: #1967D2;\n",
              "      height: 32px;\n",
              "      padding: 0 0 0 0;\n",
              "      width: 32px;\n",
              "    }\n",
              "\n",
              "    .colab-df-convert:hover {\n",
              "      background-color: #E2EBFA;\n",
              "      box-shadow: 0px 1px 2px rgba(60, 64, 67, 0.3), 0px 1px 3px 1px rgba(60, 64, 67, 0.15);\n",
              "      fill: #174EA6;\n",
              "    }\n",
              "\n",
              "    [theme=dark] .colab-df-convert {\n",
              "      background-color: #3B4455;\n",
              "      fill: #D2E3FC;\n",
              "    }\n",
              "\n",
              "    [theme=dark] .colab-df-convert:hover {\n",
              "      background-color: #434B5C;\n",
              "      box-shadow: 0px 1px 3px 1px rgba(0, 0, 0, 0.15);\n",
              "      filter: drop-shadow(0px 1px 2px rgba(0, 0, 0, 0.3));\n",
              "      fill: #FFFFFF;\n",
              "    }\n",
              "  </style>\n",
              "\n",
              "      <script>\n",
              "        const buttonEl =\n",
              "          document.querySelector('#df-c3952fcf-a779-4341-b694-54ee6e1c763d button.colab-df-convert');\n",
              "        buttonEl.style.display =\n",
              "          google.colab.kernel.accessAllowed ? 'block' : 'none';\n",
              "\n",
              "        async function convertToInteractive(key) {\n",
              "          const element = document.querySelector('#df-c3952fcf-a779-4341-b694-54ee6e1c763d');\n",
              "          const dataTable =\n",
              "            await google.colab.kernel.invokeFunction('convertToInteractive',\n",
              "                                                     [key], {});\n",
              "          if (!dataTable) return;\n",
              "\n",
              "          const docLinkHtml = 'Like what you see? Visit the ' +\n",
              "            '<a target=\"_blank\" href=https://colab.research.google.com/notebooks/data_table.ipynb>data table notebook</a>'\n",
              "            + ' to learn more about interactive tables.';\n",
              "          element.innerHTML = '';\n",
              "          dataTable['output_type'] = 'display_data';\n",
              "          await google.colab.output.renderOutput(dataTable, element);\n",
              "          const docLink = document.createElement('div');\n",
              "          docLink.innerHTML = docLinkHtml;\n",
              "          element.appendChild(docLink);\n",
              "        }\n",
              "      </script>\n",
              "    </div>\n",
              "  </div>\n",
              "  "
            ]
          },
          "metadata": {},
          "execution_count": 7
        }
      ]
    },
    {
      "cell_type": "markdown",
      "source": [
        "### **Normalizacja danych**\n",
        "Mamy różne atrybuty i różne wartości np. w SqFtLot mamy duże i małe wartości, rozsrtrzelone mocno. Musimy przetransformować dane, pozmieniać wartości żeby różnice były mniejsze, żeby rozkłady prawdopodobieństwa do siebie się upodobniły ale jednocześnie, żeby zależności miedzy nimi dalej były te same."
      ],
      "metadata": {
        "id": "Re_QCS_4Zb8Z"
      }
    },
    {
      "cell_type": "code",
      "source": [
        "houses = (houses - houses.mean()) / (houses.max() - houses.min()) \n",
        "#pomnijszamy przez wartość średnią i dzielimy przez różnicę wartości maksymalną i minimalną w całej ramce danych\n",
        "houses = houses[['lat', 'long', 'SqFtLot']] #zostawiamy sobie te trzy atrybuty które nas interesują"
      ],
      "metadata": {
        "id": "N-wEDCWTbHhY"
      },
      "execution_count": 8,
      "outputs": []
    },
    {
      "cell_type": "code",
      "source": [
        "houses"
      ],
      "metadata": {
        "colab": {
          "base_uri": "https://localhost:8080/",
          "height": 424
        },
        "id": "conWzgIpeLGy",
        "outputId": "c8aecaa7-f8e4-4dc4-dc44-f451cff96cc2"
      },
      "execution_count": 9,
      "outputs": [
        {
          "output_type": "execute_result",
          "data": {
            "text/plain": [
              "            lat      long   SqFtLot\n",
              "0     -0.002260 -0.002427  0.926695\n",
              "1      0.004289 -0.001374  0.012250\n",
              "2      0.006580 -0.003288 -0.002550\n",
              "3      0.002422 -0.003454 -0.002521\n",
              "4      0.001717 -0.002164 -0.002293\n",
              "...         ...       ...       ...\n",
              "52415  0.008325 -0.003298 -0.001795\n",
              "52416  0.001734 -0.003295 -0.002008\n",
              "52417  0.008236 -0.003241 -0.001822\n",
              "52418  0.008330 -0.003282 -0.001764\n",
              "52419 -0.213866  0.199032 -0.001761\n",
              "\n",
              "[52420 rows x 3 columns]"
            ],
            "text/html": [
              "\n",
              "  <div id=\"df-6ecac3bc-18c1-4841-a595-5cb1371477b7\">\n",
              "    <div class=\"colab-df-container\">\n",
              "      <div>\n",
              "<style scoped>\n",
              "    .dataframe tbody tr th:only-of-type {\n",
              "        vertical-align: middle;\n",
              "    }\n",
              "\n",
              "    .dataframe tbody tr th {\n",
              "        vertical-align: top;\n",
              "    }\n",
              "\n",
              "    .dataframe thead th {\n",
              "        text-align: right;\n",
              "    }\n",
              "</style>\n",
              "<table border=\"1\" class=\"dataframe\">\n",
              "  <thead>\n",
              "    <tr style=\"text-align: right;\">\n",
              "      <th></th>\n",
              "      <th>lat</th>\n",
              "      <th>long</th>\n",
              "      <th>SqFtLot</th>\n",
              "    </tr>\n",
              "  </thead>\n",
              "  <tbody>\n",
              "    <tr>\n",
              "      <th>0</th>\n",
              "      <td>-0.002260</td>\n",
              "      <td>-0.002427</td>\n",
              "      <td>0.926695</td>\n",
              "    </tr>\n",
              "    <tr>\n",
              "      <th>1</th>\n",
              "      <td>0.004289</td>\n",
              "      <td>-0.001374</td>\n",
              "      <td>0.012250</td>\n",
              "    </tr>\n",
              "    <tr>\n",
              "      <th>2</th>\n",
              "      <td>0.006580</td>\n",
              "      <td>-0.003288</td>\n",
              "      <td>-0.002550</td>\n",
              "    </tr>\n",
              "    <tr>\n",
              "      <th>3</th>\n",
              "      <td>0.002422</td>\n",
              "      <td>-0.003454</td>\n",
              "      <td>-0.002521</td>\n",
              "    </tr>\n",
              "    <tr>\n",
              "      <th>4</th>\n",
              "      <td>0.001717</td>\n",
              "      <td>-0.002164</td>\n",
              "      <td>-0.002293</td>\n",
              "    </tr>\n",
              "    <tr>\n",
              "      <th>...</th>\n",
              "      <td>...</td>\n",
              "      <td>...</td>\n",
              "      <td>...</td>\n",
              "    </tr>\n",
              "    <tr>\n",
              "      <th>52415</th>\n",
              "      <td>0.008325</td>\n",
              "      <td>-0.003298</td>\n",
              "      <td>-0.001795</td>\n",
              "    </tr>\n",
              "    <tr>\n",
              "      <th>52416</th>\n",
              "      <td>0.001734</td>\n",
              "      <td>-0.003295</td>\n",
              "      <td>-0.002008</td>\n",
              "    </tr>\n",
              "    <tr>\n",
              "      <th>52417</th>\n",
              "      <td>0.008236</td>\n",
              "      <td>-0.003241</td>\n",
              "      <td>-0.001822</td>\n",
              "    </tr>\n",
              "    <tr>\n",
              "      <th>52418</th>\n",
              "      <td>0.008330</td>\n",
              "      <td>-0.003282</td>\n",
              "      <td>-0.001764</td>\n",
              "    </tr>\n",
              "    <tr>\n",
              "      <th>52419</th>\n",
              "      <td>-0.213866</td>\n",
              "      <td>0.199032</td>\n",
              "      <td>-0.001761</td>\n",
              "    </tr>\n",
              "  </tbody>\n",
              "</table>\n",
              "<p>52420 rows × 3 columns</p>\n",
              "</div>\n",
              "      <button class=\"colab-df-convert\" onclick=\"convertToInteractive('df-6ecac3bc-18c1-4841-a595-5cb1371477b7')\"\n",
              "              title=\"Convert this dataframe to an interactive table.\"\n",
              "              style=\"display:none;\">\n",
              "        \n",
              "  <svg xmlns=\"http://www.w3.org/2000/svg\" height=\"24px\"viewBox=\"0 0 24 24\"\n",
              "       width=\"24px\">\n",
              "    <path d=\"M0 0h24v24H0V0z\" fill=\"none\"/>\n",
              "    <path d=\"M18.56 5.44l.94 2.06.94-2.06 2.06-.94-2.06-.94-.94-2.06-.94 2.06-2.06.94zm-11 1L8.5 8.5l.94-2.06 2.06-.94-2.06-.94L8.5 2.5l-.94 2.06-2.06.94zm10 10l.94 2.06.94-2.06 2.06-.94-2.06-.94-.94-2.06-.94 2.06-2.06.94z\"/><path d=\"M17.41 7.96l-1.37-1.37c-.4-.4-.92-.59-1.43-.59-.52 0-1.04.2-1.43.59L10.3 9.45l-7.72 7.72c-.78.78-.78 2.05 0 2.83L4 21.41c.39.39.9.59 1.41.59.51 0 1.02-.2 1.41-.59l7.78-7.78 2.81-2.81c.8-.78.8-2.07 0-2.86zM5.41 20L4 18.59l7.72-7.72 1.47 1.35L5.41 20z\"/>\n",
              "  </svg>\n",
              "      </button>\n",
              "      \n",
              "  <style>\n",
              "    .colab-df-container {\n",
              "      display:flex;\n",
              "      flex-wrap:wrap;\n",
              "      gap: 12px;\n",
              "    }\n",
              "\n",
              "    .colab-df-convert {\n",
              "      background-color: #E8F0FE;\n",
              "      border: none;\n",
              "      border-radius: 50%;\n",
              "      cursor: pointer;\n",
              "      display: none;\n",
              "      fill: #1967D2;\n",
              "      height: 32px;\n",
              "      padding: 0 0 0 0;\n",
              "      width: 32px;\n",
              "    }\n",
              "\n",
              "    .colab-df-convert:hover {\n",
              "      background-color: #E2EBFA;\n",
              "      box-shadow: 0px 1px 2px rgba(60, 64, 67, 0.3), 0px 1px 3px 1px rgba(60, 64, 67, 0.15);\n",
              "      fill: #174EA6;\n",
              "    }\n",
              "\n",
              "    [theme=dark] .colab-df-convert {\n",
              "      background-color: #3B4455;\n",
              "      fill: #D2E3FC;\n",
              "    }\n",
              "\n",
              "    [theme=dark] .colab-df-convert:hover {\n",
              "      background-color: #434B5C;\n",
              "      box-shadow: 0px 1px 3px 1px rgba(0, 0, 0, 0.15);\n",
              "      filter: drop-shadow(0px 1px 2px rgba(0, 0, 0, 0.3));\n",
              "      fill: #FFFFFF;\n",
              "    }\n",
              "  </style>\n",
              "\n",
              "      <script>\n",
              "        const buttonEl =\n",
              "          document.querySelector('#df-6ecac3bc-18c1-4841-a595-5cb1371477b7 button.colab-df-convert');\n",
              "        buttonEl.style.display =\n",
              "          google.colab.kernel.accessAllowed ? 'block' : 'none';\n",
              "\n",
              "        async function convertToInteractive(key) {\n",
              "          const element = document.querySelector('#df-6ecac3bc-18c1-4841-a595-5cb1371477b7');\n",
              "          const dataTable =\n",
              "            await google.colab.kernel.invokeFunction('convertToInteractive',\n",
              "                                                     [key], {});\n",
              "          if (!dataTable) return;\n",
              "\n",
              "          const docLinkHtml = 'Like what you see? Visit the ' +\n",
              "            '<a target=\"_blank\" href=https://colab.research.google.com/notebooks/data_table.ipynb>data table notebook</a>'\n",
              "            + ' to learn more about interactive tables.';\n",
              "          element.innerHTML = '';\n",
              "          dataTable['output_type'] = 'display_data';\n",
              "          await google.colab.output.renderOutput(dataTable, element);\n",
              "          const docLink = document.createElement('div');\n",
              "          docLink.innerHTML = docLinkHtml;\n",
              "          element.appendChild(docLink);\n",
              "        }\n",
              "      </script>\n",
              "    </div>\n",
              "  </div>\n",
              "  "
            ]
          },
          "metadata": {},
          "execution_count": 9
        }
      ]
    },
    {
      "cell_type": "markdown",
      "source": [
        "### Podział na trenig i test\n",
        "Trening 80% test 20% \n"
      ],
      "metadata": {
        "id": "-C-3-JIufTKG"
      }
    },
    {
      "cell_type": "code",
      "source": [
        "test_rows = random.sample(houses.index.tolist(), int(round(len(houses)*.2)))\n",
        "train_rows = set(range(len(houses))) - set(test_rows) "
      ],
      "metadata": {
        "id": "IkVE6X5nvYv8"
      },
      "execution_count": 10,
      "outputs": []
    },
    {
      "cell_type": "code",
      "source": [
        "df_test = houses.loc[test_rows]\n",
        "df_train = houses.drop(test_rows)"
      ],
      "metadata": {
        "id": "HgRIJlX9zkq4"
      },
      "execution_count": 11,
      "outputs": []
    },
    {
      "cell_type": "code",
      "source": [
        "test_values = values.loc[test_rows] #indekser loc jak wyżej\n",
        "train_values = values.loc[train_rows]"
      ],
      "metadata": {
        "colab": {
          "base_uri": "https://localhost:8080/"
        },
        "id": "TpnWTOii02pl",
        "outputId": "f5e6be28-b91e-47f9-ce98-ea807a7b0488"
      },
      "execution_count": 12,
      "outputs": [
        {
          "output_type": "stream",
          "name": "stderr",
          "text": [
            "<ipython-input-12-5fb2b1cbe0e7>:2: FutureWarning: Passing a set as an indexer is deprecated and will raise in a future version. Use a list instead.\n",
            "  train_values = values.loc[train_rows]\n"
          ]
        }
      ]
    },
    {
      "cell_type": "markdown",
      "source": [
        "liczebność danych treningowych:"
      ],
      "metadata": {
        "id": "0KmqBrZ51ocK"
      }
    },
    {
      "cell_type": "code",
      "source": [
        "len(train_values)"
      ],
      "metadata": {
        "colab": {
          "base_uri": "https://localhost:8080/"
        },
        "id": "34KM5xev1xbe",
        "outputId": "5ff5c6e7-0217-46c2-a74b-1bd1c78c47d2"
      },
      "execution_count": 13,
      "outputs": [
        {
          "output_type": "execute_result",
          "data": {
            "text/plain": [
              "41936"
            ]
          },
          "metadata": {},
          "execution_count": 13
        }
      ]
    },
    {
      "cell_type": "markdown",
      "source": [
        "liczebność danych testowych:"
      ],
      "metadata": {
        "id": "IzqvG-ve2Pvz"
      }
    },
    {
      "cell_type": "code",
      "source": [
        "len(test_values)"
      ],
      "metadata": {
        "colab": {
          "base_uri": "https://localhost:8080/"
        },
        "id": "I7zbyjWT2DnP",
        "outputId": "f45a437e-a89b-4a7a-9543-6be79471be0d"
      },
      "execution_count": 14,
      "outputs": [
        {
          "output_type": "execute_result",
          "data": {
            "text/plain": [
              "10484"
            ]
          },
          "metadata": {},
          "execution_count": 14
        }
      ]
    },
    {
      "cell_type": "markdown",
      "source": [
        "## KNN implementujemy algorytm\n",
        "Jak wejdziemy w źródło tego algorytmu klasy KDTree to jest tam odległość Minkowskiego, matematyka nauczyciela Einsteina 🦾"
      ],
      "metadata": {
        "id": "khfJONRj2jjg"
      }
    },
    {
      "cell_type": "code",
      "source": [
        "kdtree = KDTree(df_train) #tworzymy obiekt regresdora KNN"
      ],
      "metadata": {
        "id": "9jgjd6YT2wEP"
      },
      "execution_count": 15,
      "outputs": []
    },
    {
      "cell_type": "markdown",
      "source": [
        "Następnie tworzymy funkcję, która przydzieli prognozę przekazanemu obiektowi na podstawie liczby najbliższych sąsiadów (parametr k)."
      ],
      "metadata": {
        "id": "pIySB91LbhZa"
      }
    },
    {
      "cell_type": "code",
      "source": [
        "def predict(query_point, k):#query_point czyli dla konkretnego wiersza z naszej bazy będziemy przydzielać predykcję\n",
        "  _, idx = kdtree.query(query_point, k) #ta metoda zwraca nam dwie wartości 'd' i 'i'\n",
        "  # gdzie d to tablica odległości do najbliższych obiektów, natomiast 'i' jest indeksami najbliższych sąsiadów\n",
        "  # w tym przypadku nie korzystamy z pierwszej wartości, dajemy podkreślnik\n",
        "  return np.mean(train_values.iloc[idx])"
      ],
      "metadata": {
        "id": "RdlW1diA47Ro"
      },
      "execution_count": 16,
      "outputs": []
    },
    {
      "cell_type": "markdown",
      "source": [
        "Dla wartości K (liczba najbliższych sąsiadów) równej 5 dokonujemy regresji obiektów pochodzących z systemu testowego, a następnie porównujemy wyniki z wynikami oryginalnymi przy użyciu funkcji średniego błędu bezwzględnego."
      ],
      "metadata": {
        "id": "W14xp0F5dUu6"
      }
    },
    {
      "cell_type": "code",
      "source": [
        "train_predicted_values = [] #pusta lista, miejsce na wartości które będą przewidywane\n",
        "train_actual_values = []\n",
        "\n",
        "#wstawimy na sztywno 5 najbliższych sąsiadów, później będziemy optymalizować\n",
        "for _id, row in df_train.iterrows():\n",
        "  prediction = predict(row, 5) \n",
        "  actual_value = train_values[_id]\n",
        "\n",
        "  train_predicted_values.append(prediction)\n",
        "  train_actual_values.append(actual_value)"
      ],
      "metadata": {
        "id": "-H-DoJc37Qha"
      },
      "execution_count": 17,
      "outputs": []
    },
    {
      "cell_type": "markdown",
      "source": [
        "właściwy wynik:"
      ],
      "metadata": {
        "id": "dXU4k5qU_pdF"
      }
    },
    {
      "cell_type": "code",
      "source": [
        "mae = mean_absolute_error(train_values, train_predicted_values)\n",
        "f'Średni błąd bezwględny: {mae} $ '"
      ],
      "metadata": {
        "colab": {
          "base_uri": "https://localhost:8080/",
          "height": 35
        },
        "id": "JVxWpTaa_khH",
        "outputId": "0e9272c8-a4ec-4567-d64d-73895c7257bc"
      },
      "execution_count": 18,
      "outputs": [
        {
          "output_type": "execute_result",
          "data": {
            "text/plain": [
              "'Średni błąd bezwględny: 60322.00665299504 $ '"
            ],
            "application/vnd.google.colaboratory.intrinsic+json": {
              "type": "string"
            }
          },
          "metadata": {},
          "execution_count": 18
        }
      ]
    },
    {
      "cell_type": "markdown",
      "source": [
        "😾48 minut \n"
      ],
      "metadata": {
        "id": "KKQlALoBB4da"
      }
    },
    {
      "cell_type": "markdown",
      "source": [
        "###Zadnie-regresja KNN\n",
        "(opracowanie własne)\n",
        "polega na znalezioniu optymalnego K, dla średniego błedu bezwglednego. W przedziale K(3-29)\n",
        "Przedstawienie tego na wykresie."
      ],
      "metadata": {
        "id": "9qOV-X37b_Z6"
      }
    },
    {
      "cell_type": "code",
      "source": [
        "train_predicted_values = [] #pusta lista, miejsce na wartości które będą przewidywane\n",
        "train_actual_values = []\n",
        "listadlakibledu = []\n",
        "\n",
        "for k in range(3,30):\n",
        "  for _id, row in df_train.iterrows():\n",
        "    prediction = predict(row, k) \n",
        "    actual_value = train_values[_id]\n",
        "\n",
        "    train_predicted_values.append(prediction)\n",
        "    train_actual_values.append(actual_value)\n",
        "  blad = mean_absolute_error(train_predicted_values, train_actual_values)\n",
        "  print(f'Wartosc sredniego bledu bezwzglednego na systemie treningowym dla {k} wynosi: {blad}')\n",
        "  listadlakibledu.append((k,blad))\n",
        "  \n",
        "\n",
        " "
      ],
      "metadata": {
        "colab": {
          "base_uri": "https://localhost:8080/"
        },
        "id": "gch4Wexwc3XJ",
        "outputId": "fa4e63bb-4ad8-4e44-cea7-df664626e812"
      },
      "execution_count": 28,
      "outputs": [
        {
          "output_type": "stream",
          "name": "stdout",
          "text": [
            "Wartosc sredniego bledu bezwzglednego na systemie treningowym dla 3 wynosi: 52800.6283543177\n",
            "Wartosc sredniego bledu bezwzglednego na systemie treningowym dla 4 wynosi: 55156.923948596275\n",
            "Wartosc sredniego bledu bezwzglednego na systemie treningowym dla 5 wynosi: 56878.61818339587\n",
            "Wartosc sredniego bledu bezwzglednego na systemie treningowym dla 6 wynosi: 58279.34187164171\n",
            "Wartosc sredniego bledu bezwzglednego na systemie treningowym dla 7 wynosi: 59441.285869908344\n",
            "Wartosc sredniego bledu bezwzglednego na systemie treningowym dla 8 wynosi: 60444.72207084359\n",
            "Wartosc sredniego bledu bezwzglednego na systemie treningowym dla 9 wynosi: 61328.765163392\n",
            "Wartosc sredniego bledu bezwzglednego na systemie treningowym dla 10 wynosi: 62094.63671500634\n",
            "Wartosc sredniego bledu bezwzglednego na systemie treningowym dla 11 wynosi: 62777.94357291066\n",
            "Wartosc sredniego bledu bezwzglednego na systemie treningowym dla 12 wynosi: 63397.924933181275\n",
            "Wartosc sredniego bledu bezwzglednego na systemie treningowym dla 13 wynosi: 63961.25930384191\n",
            "Wartosc sredniego bledu bezwzglednego na systemie treningowym dla 14 wynosi: 64484.16122222395\n",
            "Wartosc sredniego bledu bezwzglednego na systemie treningowym dla 15 wynosi: 64968.06115885171\n",
            "Wartosc sredniego bledu bezwzglednego na systemie treningowym dla 16 wynosi: 65418.6547006133\n",
            "Wartosc sredniego bledu bezwzglednego na systemie treningowym dla 17 wynosi: 65839.30862677122\n",
            "Wartosc sredniego bledu bezwzglednego na systemie treningowym dla 18 wynosi: 66233.57689987877\n",
            "Wartosc sredniego bledu bezwzglednego na systemie treningowym dla 19 wynosi: 66605.85387068428\n",
            "Wartosc sredniego bledu bezwzglednego na systemie treningowym dla 20 wynosi: 66956.32222726598\n",
            "Wartosc sredniego bledu bezwzglednego na systemie treningowym dla 21 wynosi: 67289.54741768772\n",
            "Wartosc sredniego bledu bezwzglednego na systemie treningowym dla 22 wynosi: 67604.66720134184\n",
            "Wartosc sredniego bledu bezwzglednego na systemie treningowym dla 23 wynosi: 67904.93030598125\n",
            "Wartosc sredniego bledu bezwzglednego na systemie treningowym dla 24 wynosi: 68191.02720532937\n",
            "Wartosc sredniego bledu bezwzglednego na systemie treningowym dla 25 wynosi: 68463.51333429328\n",
            "Wartosc sredniego bledu bezwzglednego na systemie treningowym dla 26 wynosi: 68724.10681935736\n",
            "Wartosc sredniego bledu bezwzglednego na systemie treningowym dla 27 wynosi: 68971.97682937025\n",
            "Wartosc sredniego bledu bezwzglednego na systemie treningowym dla 28 wynosi: 69208.73224841207\n",
            "Wartosc sredniego bledu bezwzglednego na systemie treningowym dla 29 wynosi: 69436.79767415866\n"
          ]
        }
      ]
    },
    {
      "cell_type": "markdown",
      "source": [
        "wyświetlenie najmniejszego błędu:"
      ],
      "metadata": {
        "id": "QKXaFX1sypFn"
      }
    },
    {
      "cell_type": "code",
      "source": [
        "f'{min(listadlakibledu)}'"
      ],
      "metadata": {
        "colab": {
          "base_uri": "https://localhost:8080/",
          "height": 35
        },
        "id": "_fDvLQFeoYsW",
        "outputId": "7d7c4434-d68d-42c2-8b91-1aaa2354771d"
      },
      "execution_count": 33,
      "outputs": [
        {
          "output_type": "execute_result",
          "data": {
            "text/plain": [
              "'(3, 52800.6283543177)'"
            ],
            "application/vnd.google.colaboratory.intrinsic+json": {
              "type": "string"
            }
          },
          "metadata": {},
          "execution_count": 33
        }
      ]
    },
    {
      "cell_type": "code",
      "source": [
        "# konwersja krotek na dwie listy - jedną dla wartości x, drugą dla wartości y\n",
        "x_values = [item[0] for item in listadlakibledu]\n",
        "y_values = [item[1] for item in listadlakibledu]\n",
        "\n",
        "# utworzenie wykresu liniowego\n",
        "plt.plot(x_values, y_values)\n",
        "\n",
        "# dodanie punktów dla każdej wartości x\n",
        "plt.scatter(x_values, y_values, color='red')\n",
        "\n",
        "# dodanie tytułu i etykiet osi\n",
        "plt.title('Przykładowe dane')\n",
        "plt.xlabel('X')\n",
        "plt.ylabel('Y')\n",
        "\n",
        "# wyświetlenie wykresu\n",
        "plt.show()"
      ],
      "metadata": {
        "colab": {
          "base_uri": "https://localhost:8080/",
          "height": 472
        },
        "id": "gBAgnpy1pIEP",
        "outputId": "bfcf414b-143e-4f9c-b3fa-c216f7538214"
      },
      "execution_count": 44,
      "outputs": [
        {
          "output_type": "display_data",
          "data": {
            "text/plain": [
              "<Figure size 640x480 with 1 Axes>"
            ],
            "image/png": "[encoded data removed]"
          },
          "metadata": {}
        }
      ]
    },
    {
      "cell_type": "code",
      "source": [
        "# utworzenie dwóch list - jednej dla wartości, drugiej dla etykiet\n",
        "values = [item[1] for item in listadlakibledu]\n",
        "labels = [item[0] for item in listadlakibledu]\n",
        "\n",
        "# znajdowanie najmniejszej wartości i utworzenie listy explode\n",
        "min_value = min(values)\n",
        "explode = [0.1 if value == min_value else 0 for value in values]\n",
        "\n",
        "# utworzenie wykresu kołowego procentowego\n",
        "plt.pie(values, labels=labels, autopct='', explode=explode)\n",
        "\n",
        "# dodanie tytułu\n",
        "plt.title('średni błąd dla k(3,29)')\n",
        "\n",
        "# wyświetlenie wykresu\n",
        "plt.show()"
      ],
      "metadata": {
        "colab": {
          "base_uri": "https://localhost:8080/",
          "height": 429
        },
        "id": "xaxXXBJMtLg5",
        "outputId": "28f8059a-a3a4-4576-b765-4108e93e9ab2"
      },
      "execution_count": 41,
      "outputs": [
        {
          "output_type": "display_data",
          "data": {
            "text/plain": [
              "<Figure size 640x480 with 1 Axes>"
            ],
            "image/png": "[encoded data removed]"
          },
          "metadata": {}
        }
      ]
    },
    {
      "cell_type": "markdown",
      "source": [
        "### Dalsza część, szukanie optymalnych proporcji danych treningowych i testowych\n",
        "Znaleźć \"najlepszą\" wartość K dla następujących podziałów na system treningowy i testowy:\n",
        "60% system treningowy i 40% system testowy\n",
        "65% system treningowy i 35% system testowy\n",
        "70% system treningowy i 30% system testowy\n",
        "75% system treningowy i 25% system testowy\n",
        "🐌3:18\n"
      ],
      "metadata": {
        "id": "aGeZfAe8zdqH"
      }
    }
  ]
}