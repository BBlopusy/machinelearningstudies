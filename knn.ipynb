{
  "nbformat": 4,
  "nbformat_minor": 0,
  "metadata": {
    "colab": {
      "provenance": [],
      "authorship_tag": "ABX9TyNdjQwx+omPv0o+HjWmZdwo",
      "include_colab_link": true
    },
    "kernelspec": {
      "name": "python3",
      "display_name": "Python 3"
    },
    "language_info": {
      "name": "python"
    }
  },
  "cells": [
    {
      "cell_type": "markdown",
      "metadata": {
        "id": "view-in-github",
        "colab_type": "text"
      },
      "source": [
        "<a href=\"https://colab.research.google.com/github/BBlopusy/machinelearningstudies/blob/main/knn.ipynb\" target=\"_parent\"><img src=\"https://colab.research.google.com/assets/colab-badge.svg\" alt=\"Open In Colab\"/></a>"
      ]
    },
    {
      "cell_type": "markdown",
      "source": [
        "# KNN"
      ],
      "metadata": {
        "id": "Ted0e_FkM65V"
      }
    },
    {
      "cell_type": "code",
      "source": [
        "import pandas as pd\n",
        "import numpy as np\n",
        "from scipy.spatial import KDTree #ogarnie nam algorytm KNN\n",
        "from sklearn.metrics import mean_absolute_error #średni błąd bezwzgledny, policzymy dzięki\n",
        "#temu o ile w naszym przypadku w dolarach są błędne prognozy \n",
        "import random\n",
        "import matplotlib.pyplot as plt\n",
        "\n"
      ],
      "metadata": {
        "id": "RGv7l16WRXCR"
      },
      "execution_count": 11,
      "outputs": []
    },
    {
      "cell_type": "markdown",
      "source": [
        "## Pobranie danych i ich przygotowanie\n",
        "**!wget** to linuksowe polecenie ściągające plik z sieci"
      ],
      "metadata": {
        "id": "wrQmai0nRXmS"
      }
    },
    {
      "cell_type": "code",
      "source": [
        "!wget https://github.com/betacord/ML/raw/master/lab1/data/data.csv"
      ],
      "metadata": {
        "id": "qIM46CUDM_Gu",
        "colab": {
          "base_uri": "https://localhost:8080/"
        },
        "outputId": "3a8afada-c96a-437d-e6a6-e6bd4b90cace"
      },
      "execution_count": 12,
      "outputs": [
        {
          "output_type": "stream",
          "name": "stdout",
          "text": [
            "--2023-04-09 21:20:41--  https://github.com/betacord/ML/raw/master/lab1/data/data.csv\n",
            "Resolving github.com (github.com)... 140.82.113.4\n",
            "Connecting to github.com (github.com)|140.82.113.4|:443... connected.\n",
            "HTTP request sent, awaiting response... 302 Found\n",
            "Location: https://raw.githubusercontent.com/betacord/ML/master/lab1/data/data.csv [following]\n",
            "--2023-04-09 21:20:41--  https://raw.githubusercontent.com/betacord/ML/master/lab1/data/data.csv\n",
            "Resolving raw.githubusercontent.com (raw.githubusercontent.com)... 185.199.109.133, 185.199.108.133, 185.199.111.133, ...\n",
            "Connecting to raw.githubusercontent.com (raw.githubusercontent.com)|185.199.109.133|:443... connected.\n",
            "HTTP request sent, awaiting response... 200 OK\n",
            "Length: 7381541 (7.0M) [text/plain]\n",
            "Saving to: ‘data.csv.2’\n",
            "\n",
            "data.csv.2          100%[===================>]   7.04M  --.-KB/s    in 0.04s   \n",
            "\n",
            "2023-04-09 21:20:41 (174 MB/s) - ‘data.csv.2’ saved [7381541/7381541]\n",
            "\n"
          ]
        }
      ]
    },
    {
      "cell_type": "markdown",
      "source": [
        "### Wczytanie danych "
      ],
      "metadata": {
        "id": "YBHmadUGSH_P"
      }
    },
    {
      "cell_type": "code",
      "source": [
        "houses = pd.read_csv('/content/data.csv')"
      ],
      "metadata": {
        "id": "-UJy7VDcSRs0"
      },
      "execution_count": 13,
      "outputs": []
    },
    {
      "cell_type": "code",
      "source": [
        "houses"
      ],
      "metadata": {
        "colab": {
          "base_uri": "https://localhost:8080/",
          "height": 487
        },
        "id": "u0QpFNw4S5C-",
        "outputId": "0b531cb8-2922-48f3-89ab-eb8719ba932e"
      },
      "execution_count": 14,
      "outputs": [
        {
          "output_type": "execute_result",
          "data": {
            "text/plain": [
              "       AppraisedValue  SqFtLot  WaterSystem  SewerSystem  Access  Topography  \\\n",
              "0            619000.0  6542712            1            1       4           0   \n",
              "1            708000.0   105850            2            1       3           0   \n",
              "2            297000.0     1667            2            2       4           0   \n",
              "3            523000.0     1872            2            2       4           0   \n",
              "4            288000.0     3480            2            2       4           0   \n",
              "...               ...      ...          ...          ...     ...         ...   \n",
              "52415        523000.0     6982            2            2       4           0   \n",
              "52416        425000.0     5481            2            2       4           0   \n",
              "52417        377000.0     6793            2            2       3           0   \n",
              "52418        581000.0     7200            2            2       4           0   \n",
              "52419        567000.0     7221            2            2       3           0   \n",
              "\n",
              "       StreetSurface  RestrictiveSzShape  InadequateParking  PcntUnusable  \\\n",
              "0                  1                   0                  0             0   \n",
              "1                  2                   0                  0             0   \n",
              "2                  1                   0                  2             0   \n",
              "3                  1                   0                  2             0   \n",
              "4                  1                   0                  0             0   \n",
              "...              ...                 ...                ...           ...   \n",
              "52415              1                   0                  0             0   \n",
              "52416              1                   0                  2             0   \n",
              "52417              1                   0                  0             0   \n",
              "52418              1                   0                  0             0   \n",
              "52419              3                   0                  0             0   \n",
              "\n",
              "       ...  NativeGrowthProtEsmt  Easements  OtherDesignation  \\\n",
              "0      ...                     0          0                 0   \n",
              "1      ...                     0          0                 0   \n",
              "2      ...                     0          0                 0   \n",
              "3      ...                     0          0                 0   \n",
              "4      ...                     0          0                 0   \n",
              "...    ...                   ...        ...               ...   \n",
              "52415  ...                     0          0                 0   \n",
              "52416  ...                     0          0                 0   \n",
              "52417  ...                     0          0                 0   \n",
              "52418  ...                     0          0                 0   \n",
              "52419  ...                     0          0                 0   \n",
              "\n",
              "       DeedRestrictions  DevelopmentRightsPurch  WaterProblems  \\\n",
              "0                     0                       1              0   \n",
              "1                     0                       0              0   \n",
              "2                     0                       0              0   \n",
              "3                     0                       0              0   \n",
              "4                     0                       0              0   \n",
              "...                 ...                     ...            ...   \n",
              "52415                 0                       0              0   \n",
              "52416                 0                       0              0   \n",
              "52417                 0                       0              0   \n",
              "52418                 0                       0              0   \n",
              "52419                 0                       0              0   \n",
              "\n",
              "       TranspConcurrency  OtherProblems        lat        long  \n",
              "0                      0              0  47.354019 -122.225166  \n",
              "1                      0              0  47.611248 -122.053154  \n",
              "2                      0              0  47.701248 -122.365784  \n",
              "3                      0              0  47.537918 -122.392845  \n",
              "4                      0              0  47.510227 -122.182167  \n",
              "...                  ...            ...        ...         ...  \n",
              "52415                  0              0  47.769810 -122.367447  \n",
              "52416                  0              0  47.510895 -122.366936  \n",
              "52417                  0              0  47.766289 -122.358192  \n",
              "52418                  0              0  47.769989 -122.364822  \n",
              "52419                  0              0  39.042558  -89.322143  \n",
              "\n",
              "[52420 rows x 48 columns]"
            ],
            "text/html": [
              "\n",
              "  <div id=\"df-3a8dae55-b442-47ca-8eb5-46fade87b959\">\n",
              "    <div class=\"colab-df-container\">\n",
              "      <div>\n",
              "<style scoped>\n",
              "    .dataframe tbody tr th:only-of-type {\n",
              "        vertical-align: middle;\n",
              "    }\n",
              "\n",
              "    .dataframe tbody tr th {\n",
              "        vertical-align: top;\n",
              "    }\n",
              "\n",
              "    .dataframe thead th {\n",
              "        text-align: right;\n",
              "    }\n",
              "</style>\n",
              "<table border=\"1\" class=\"dataframe\">\n",
              "  <thead>\n",
              "    <tr style=\"text-align: right;\">\n",
              "      <th></th>\n",
              "      <th>AppraisedValue</th>\n",
              "      <th>SqFtLot</th>\n",
              "      <th>WaterSystem</th>\n",
              "      <th>SewerSystem</th>\n",
              "      <th>Access</th>\n",
              "      <th>Topography</th>\n",
              "      <th>StreetSurface</th>\n",
              "      <th>RestrictiveSzShape</th>\n",
              "      <th>InadequateParking</th>\n",
              "      <th>PcntUnusable</th>\n",
              "      <th>...</th>\n",
              "      <th>NativeGrowthProtEsmt</th>\n",
              "      <th>Easements</th>\n",
              "      <th>OtherDesignation</th>\n",
              "      <th>DeedRestrictions</th>\n",
              "      <th>DevelopmentRightsPurch</th>\n",
              "      <th>WaterProblems</th>\n",
              "      <th>TranspConcurrency</th>\n",
              "      <th>OtherProblems</th>\n",
              "      <th>lat</th>\n",
              "      <th>long</th>\n",
              "    </tr>\n",
              "  </thead>\n",
              "  <tbody>\n",
              "    <tr>\n",
              "      <th>0</th>\n",
              "      <td>619000.0</td>\n",
              "      <td>6542712</td>\n",
              "      <td>1</td>\n",
              "      <td>1</td>\n",
              "      <td>4</td>\n",
              "      <td>0</td>\n",
              "      <td>1</td>\n",
              "      <td>0</td>\n",
              "      <td>0</td>\n",
              "      <td>0</td>\n",
              "      <td>...</td>\n",
              "      <td>0</td>\n",
              "      <td>0</td>\n",
              "      <td>0</td>\n",
              "      <td>0</td>\n",
              "      <td>1</td>\n",
              "      <td>0</td>\n",
              "      <td>0</td>\n",
              "      <td>0</td>\n",
              "      <td>47.354019</td>\n",
              "      <td>-122.225166</td>\n",
              "    </tr>\n",
              "    <tr>\n",
              "      <th>1</th>\n",
              "      <td>708000.0</td>\n",
              "      <td>105850</td>\n",
              "      <td>2</td>\n",
              "      <td>1</td>\n",
              "      <td>3</td>\n",
              "      <td>0</td>\n",
              "      <td>2</td>\n",
              "      <td>0</td>\n",
              "      <td>0</td>\n",
              "      <td>0</td>\n",
              "      <td>...</td>\n",
              "      <td>0</td>\n",
              "      <td>0</td>\n",
              "      <td>0</td>\n",
              "      <td>0</td>\n",
              "      <td>0</td>\n",
              "      <td>0</td>\n",
              "      <td>0</td>\n",
              "      <td>0</td>\n",
              "      <td>47.611248</td>\n",
              "      <td>-122.053154</td>\n",
              "    </tr>\n",
              "    <tr>\n",
              "      <th>2</th>\n",
              "      <td>297000.0</td>\n",
              "      <td>1667</td>\n",
              "      <td>2</td>\n",
              "      <td>2</td>\n",
              "      <td>4</td>\n",
              "      <td>0</td>\n",
              "      <td>1</td>\n",
              "      <td>0</td>\n",
              "      <td>2</td>\n",
              "      <td>0</td>\n",
              "      <td>...</td>\n",
              "      <td>0</td>\n",
              "      <td>0</td>\n",
              "      <td>0</td>\n",
              "      <td>0</td>\n",
              "      <td>0</td>\n",
              "      <td>0</td>\n",
              "      <td>0</td>\n",
              "      <td>0</td>\n",
              "      <td>47.701248</td>\n",
              "      <td>-122.365784</td>\n",
              "    </tr>\n",
              "    <tr>\n",
              "      <th>3</th>\n",
              "      <td>523000.0</td>\n",
              "      <td>1872</td>\n",
              "      <td>2</td>\n",
              "      <td>2</td>\n",
              "      <td>4</td>\n",
              "      <td>0</td>\n",
              "      <td>1</td>\n",
              "      <td>0</td>\n",
              "      <td>2</td>\n",
              "      <td>0</td>\n",
              "      <td>...</td>\n",
              "      <td>0</td>\n",
              "      <td>0</td>\n",
              "      <td>0</td>\n",
              "      <td>0</td>\n",
              "      <td>0</td>\n",
              "      <td>0</td>\n",
              "      <td>0</td>\n",
              "      <td>0</td>\n",
              "      <td>47.537918</td>\n",
              "      <td>-122.392845</td>\n",
              "    </tr>\n",
              "    <tr>\n",
              "      <th>4</th>\n",
              "      <td>288000.0</td>\n",
              "      <td>3480</td>\n",
              "      <td>2</td>\n",
              "      <td>2</td>\n",
              "      <td>4</td>\n",
              "      <td>0</td>\n",
              "      <td>1</td>\n",
              "      <td>0</td>\n",
              "      <td>0</td>\n",
              "      <td>0</td>\n",
              "      <td>...</td>\n",
              "      <td>0</td>\n",
              "      <td>0</td>\n",
              "      <td>0</td>\n",
              "      <td>0</td>\n",
              "      <td>0</td>\n",
              "      <td>0</td>\n",
              "      <td>0</td>\n",
              "      <td>0</td>\n",
              "      <td>47.510227</td>\n",
              "      <td>-122.182167</td>\n",
              "    </tr>\n",
              "    <tr>\n",
              "      <th>...</th>\n",
              "      <td>...</td>\n",
              "      <td>...</td>\n",
              "      <td>...</td>\n",
              "      <td>...</td>\n",
              "      <td>...</td>\n",
              "      <td>...</td>\n",
              "      <td>...</td>\n",
              "      <td>...</td>\n",
              "      <td>...</td>\n",
              "      <td>...</td>\n",
              "      <td>...</td>\n",
              "      <td>...</td>\n",
              "      <td>...</td>\n",
              "      <td>...</td>\n",
              "      <td>...</td>\n",
              "      <td>...</td>\n",
              "      <td>...</td>\n",
              "      <td>...</td>\n",
              "      <td>...</td>\n",
              "      <td>...</td>\n",
              "      <td>...</td>\n",
              "    </tr>\n",
              "    <tr>\n",
              "      <th>52415</th>\n",
              "      <td>523000.0</td>\n",
              "      <td>6982</td>\n",
              "      <td>2</td>\n",
              "      <td>2</td>\n",
              "      <td>4</td>\n",
              "      <td>0</td>\n",
              "      <td>1</td>\n",
              "      <td>0</td>\n",
              "      <td>0</td>\n",
              "      <td>0</td>\n",
              "      <td>...</td>\n",
              "      <td>0</td>\n",
              "      <td>0</td>\n",
              "      <td>0</td>\n",
              "      <td>0</td>\n",
              "      <td>0</td>\n",
              "      <td>0</td>\n",
              "      <td>0</td>\n",
              "      <td>0</td>\n",
              "      <td>47.769810</td>\n",
              "      <td>-122.367447</td>\n",
              "    </tr>\n",
              "    <tr>\n",
              "      <th>52416</th>\n",
              "      <td>425000.0</td>\n",
              "      <td>5481</td>\n",
              "      <td>2</td>\n",
              "      <td>2</td>\n",
              "      <td>4</td>\n",
              "      <td>0</td>\n",
              "      <td>1</td>\n",
              "      <td>0</td>\n",
              "      <td>2</td>\n",
              "      <td>0</td>\n",
              "      <td>...</td>\n",
              "      <td>0</td>\n",
              "      <td>0</td>\n",
              "      <td>0</td>\n",
              "      <td>0</td>\n",
              "      <td>0</td>\n",
              "      <td>0</td>\n",
              "      <td>0</td>\n",
              "      <td>0</td>\n",
              "      <td>47.510895</td>\n",
              "      <td>-122.366936</td>\n",
              "    </tr>\n",
              "    <tr>\n",
              "      <th>52417</th>\n",
              "      <td>377000.0</td>\n",
              "      <td>6793</td>\n",
              "      <td>2</td>\n",
              "      <td>2</td>\n",
              "      <td>3</td>\n",
              "      <td>0</td>\n",
              "      <td>1</td>\n",
              "      <td>0</td>\n",
              "      <td>0</td>\n",
              "      <td>0</td>\n",
              "      <td>...</td>\n",
              "      <td>0</td>\n",
              "      <td>0</td>\n",
              "      <td>0</td>\n",
              "      <td>0</td>\n",
              "      <td>0</td>\n",
              "      <td>0</td>\n",
              "      <td>0</td>\n",
              "      <td>0</td>\n",
              "      <td>47.766289</td>\n",
              "      <td>-122.358192</td>\n",
              "    </tr>\n",
              "    <tr>\n",
              "      <th>52418</th>\n",
              "      <td>581000.0</td>\n",
              "      <td>7200</td>\n",
              "      <td>2</td>\n",
              "      <td>2</td>\n",
              "      <td>4</td>\n",
              "      <td>0</td>\n",
              "      <td>1</td>\n",
              "      <td>0</td>\n",
              "      <td>0</td>\n",
              "      <td>0</td>\n",
              "      <td>...</td>\n",
              "      <td>0</td>\n",
              "      <td>0</td>\n",
              "      <td>0</td>\n",
              "      <td>0</td>\n",
              "      <td>0</td>\n",
              "      <td>0</td>\n",
              "      <td>0</td>\n",
              "      <td>0</td>\n",
              "      <td>47.769989</td>\n",
              "      <td>-122.364822</td>\n",
              "    </tr>\n",
              "    <tr>\n",
              "      <th>52419</th>\n",
              "      <td>567000.0</td>\n",
              "      <td>7221</td>\n",
              "      <td>2</td>\n",
              "      <td>2</td>\n",
              "      <td>3</td>\n",
              "      <td>0</td>\n",
              "      <td>3</td>\n",
              "      <td>0</td>\n",
              "      <td>0</td>\n",
              "      <td>0</td>\n",
              "      <td>...</td>\n",
              "      <td>0</td>\n",
              "      <td>0</td>\n",
              "      <td>0</td>\n",
              "      <td>0</td>\n",
              "      <td>0</td>\n",
              "      <td>0</td>\n",
              "      <td>0</td>\n",
              "      <td>0</td>\n",
              "      <td>39.042558</td>\n",
              "      <td>-89.322143</td>\n",
              "    </tr>\n",
              "  </tbody>\n",
              "</table>\n",
              "<p>52420 rows × 48 columns</p>\n",
              "</div>\n",
              "      <button class=\"colab-df-convert\" onclick=\"convertToInteractive('df-3a8dae55-b442-47ca-8eb5-46fade87b959')\"\n",
              "              title=\"Convert this dataframe to an interactive table.\"\n",
              "              style=\"display:none;\">\n",
              "        \n",
              "  <svg xmlns=\"http://www.w3.org/2000/svg\" height=\"24px\"viewBox=\"0 0 24 24\"\n",
              "       width=\"24px\">\n",
              "    <path d=\"M0 0h24v24H0V0z\" fill=\"none\"/>\n",
              "    <path d=\"M18.56 5.44l.94 2.06.94-2.06 2.06-.94-2.06-.94-.94-2.06-.94 2.06-2.06.94zm-11 1L8.5 8.5l.94-2.06 2.06-.94-2.06-.94L8.5 2.5l-.94 2.06-2.06.94zm10 10l.94 2.06.94-2.06 2.06-.94-2.06-.94-.94-2.06-.94 2.06-2.06.94z\"/><path d=\"M17.41 7.96l-1.37-1.37c-.4-.4-.92-.59-1.43-.59-.52 0-1.04.2-1.43.59L10.3 9.45l-7.72 7.72c-.78.78-.78 2.05 0 2.83L4 21.41c.39.39.9.59 1.41.59.51 0 1.02-.2 1.41-.59l7.78-7.78 2.81-2.81c.8-.78.8-2.07 0-2.86zM5.41 20L4 18.59l7.72-7.72 1.47 1.35L5.41 20z\"/>\n",
              "  </svg>\n",
              "      </button>\n",
              "      \n",
              "  <style>\n",
              "    .colab-df-container {\n",
              "      display:flex;\n",
              "      flex-wrap:wrap;\n",
              "      gap: 12px;\n",
              "    }\n",
              "\n",
              "    .colab-df-convert {\n",
              "      background-color: #E8F0FE;\n",
              "      border: none;\n",
              "      border-radius: 50%;\n",
              "      cursor: pointer;\n",
              "      display: none;\n",
              "      fill: #1967D2;\n",
              "      height: 32px;\n",
              "      padding: 0 0 0 0;\n",
              "      width: 32px;\n",
              "    }\n",
              "\n",
              "    .colab-df-convert:hover {\n",
              "      background-color: #E2EBFA;\n",
              "      box-shadow: 0px 1px 2px rgba(60, 64, 67, 0.3), 0px 1px 3px 1px rgba(60, 64, 67, 0.15);\n",
              "      fill: #174EA6;\n",
              "    }\n",
              "\n",
              "    [theme=dark] .colab-df-convert {\n",
              "      background-color: #3B4455;\n",
              "      fill: #D2E3FC;\n",
              "    }\n",
              "\n",
              "    [theme=dark] .colab-df-convert:hover {\n",
              "      background-color: #434B5C;\n",
              "      box-shadow: 0px 1px 3px 1px rgba(0, 0, 0, 0.15);\n",
              "      filter: drop-shadow(0px 1px 2px rgba(0, 0, 0, 0.3));\n",
              "      fill: #FFFFFF;\n",
              "    }\n",
              "  </style>\n",
              "\n",
              "      <script>\n",
              "        const buttonEl =\n",
              "          document.querySelector('#df-3a8dae55-b442-47ca-8eb5-46fade87b959 button.colab-df-convert');\n",
              "        buttonEl.style.display =\n",
              "          google.colab.kernel.accessAllowed ? 'block' : 'none';\n",
              "\n",
              "        async function convertToInteractive(key) {\n",
              "          const element = document.querySelector('#df-3a8dae55-b442-47ca-8eb5-46fade87b959');\n",
              "          const dataTable =\n",
              "            await google.colab.kernel.invokeFunction('convertToInteractive',\n",
              "                                                     [key], {});\n",
              "          if (!dataTable) return;\n",
              "\n",
              "          const docLinkHtml = 'Like what you see? Visit the ' +\n",
              "            '<a target=\"_blank\" href=https://colab.research.google.com/notebooks/data_table.ipynb>data table notebook</a>'\n",
              "            + ' to learn more about interactive tables.';\n",
              "          element.innerHTML = '';\n",
              "          dataTable['output_type'] = 'display_data';\n",
              "          await google.colab.output.renderOutput(dataTable, element);\n",
              "          const docLink = document.createElement('div');\n",
              "          docLink.innerHTML = docLinkHtml;\n",
              "          element.appendChild(docLink);\n",
              "        }\n",
              "      </script>\n",
              "    </div>\n",
              "  </div>\n",
              "  "
            ]
          },
          "metadata": {},
          "execution_count": 14
        }
      ]
    },
    {
      "cell_type": "markdown",
      "source": [
        "Wyświetlenie kolumn i wczytanie ich w czystej postaci tablicy numphy:"
      ],
      "metadata": {
        "id": "q9gX5jm7TaMe"
      }
    },
    {
      "cell_type": "code",
      "source": [
        "houses.columns.values"
      ],
      "metadata": {
        "colab": {
          "base_uri": "https://localhost:8080/"
        },
        "id": "5fMtYXI2TSML",
        "outputId": "2d62597d-0464-40af-a9ed-80b4a57ca586"
      },
      "execution_count": 15,
      "outputs": [
        {
          "output_type": "execute_result",
          "data": {
            "text/plain": [
              "array(['AppraisedValue', 'SqFtLot', 'WaterSystem', 'SewerSystem',\n",
              "       'Access', 'Topography', 'StreetSurface', 'RestrictiveSzShape',\n",
              "       'InadequateParking', 'PcntUnusable', 'MtRainier', 'Olympics',\n",
              "       'Cascades', 'Territorial', 'SeattleSkyline', 'PugetSound',\n",
              "       'LakeWashington', 'LakeSammamish', 'SmallLakeRiverCreek',\n",
              "       'OtherView', 'WfntLocation', 'WfntFootage', 'WfntBank',\n",
              "       'WfntPoorQuality', 'WfntRestrictedAccess', 'WfntAccessRights',\n",
              "       'WfntProximityInfluence', 'TidelandShoreland', 'LotDepthFactor',\n",
              "       'TrafficNoise', 'PowerLines', 'OtherNuisances', 'NbrBldgSites',\n",
              "       'Contamination', 'AdjacentGolfFairway', 'AdjacentGreenbelt',\n",
              "       'HistoricSite', 'CurrentUseDesignation', 'NativeGrowthProtEsmt',\n",
              "       'Easements', 'OtherDesignation', 'DeedRestrictions',\n",
              "       'DevelopmentRightsPurch', 'WaterProblems', 'TranspConcurrency',\n",
              "       'OtherProblems', 'lat', 'long'], dtype=object)"
            ]
          },
          "metadata": {},
          "execution_count": 15
        }
      ]
    },
    {
      "cell_type": "markdown",
      "source": [
        "### Selekcja atrybutów"
      ],
      "metadata": {
        "id": "dpf_zClVVe-v"
      }
    },
    {
      "cell_type": "markdown",
      "source": [
        "Selekcja atrybutów, wybieramy te które nas interesują ⛱ \n",
        "Czyli wartość, wielkość działki, system nawadniający itd.\n",
        "My wybierzemy dokładnie za radą ekspertów: wielkość działki i współrzędne geograficzne. Nie wpływają w sposób liniowy. Będziemy próbować przewidzieć wartość czyli AppraisedValue na podstawie SqFtlot i współrzednych geograficznych czyli lat i long. \n"
      ],
      "metadata": {
        "id": "ynnuJ5R9T_YO"
      }
    },
    {
      "cell_type": "code",
      "source": [
        "# wyodrębnienie atrybutu decyzyjnego\n",
        "values = houses['AppraisedValue']\n",
        "# usuwamy go z systemu decyjnego, tworząc w ten sposób system informacyjny\n",
        "houses.drop('AppraisedValue',1, inplace=True) \n",
        "#wskazujemy czy chcemy usunąć po osi wierszy czy po osi kolumn, my wskazujemy że po osi kolumn\n",
        "#dlatego dajemy w parametrze axis wartość: 1\n",
        "#nie chcemy zwróconej kopi tej ramki tylko żeby została zastąpiona oryginalna parametrem inplance =True\n"
      ],
      "metadata": {
        "id": "VwggWKCfV3oO",
        "colab": {
          "base_uri": "https://localhost:8080/"
        },
        "outputId": "55ad9349-ca18-43de-c630-0af454f64260"
      },
      "execution_count": 16,
      "outputs": [
        {
          "output_type": "stream",
          "name": "stderr",
          "text": [
            "<ipython-input-16-e2790199a246>:4: FutureWarning: In a future version of pandas all arguments of DataFrame.drop except for the argument 'labels' will be keyword-only.\n",
            "  houses.drop('AppraisedValue',1, inplace=True)\n"
          ]
        }
      ]
    },
    {
      "cell_type": "code",
      "source": [
        "houses"
      ],
      "metadata": {
        "colab": {
          "base_uri": "https://localhost:8080/",
          "height": 487
        },
        "id": "7Fnojz6uZGEQ",
        "outputId": "3d206b30-017a-473d-ca88-2368465eb494"
      },
      "execution_count": 17,
      "outputs": [
        {
          "output_type": "execute_result",
          "data": {
            "text/plain": [
              "       SqFtLot  WaterSystem  SewerSystem  Access  Topography  StreetSurface  \\\n",
              "0      6542712            1            1       4           0              1   \n",
              "1       105850            2            1       3           0              2   \n",
              "2         1667            2            2       4           0              1   \n",
              "3         1872            2            2       4           0              1   \n",
              "4         3480            2            2       4           0              1   \n",
              "...        ...          ...          ...     ...         ...            ...   \n",
              "52415     6982            2            2       4           0              1   \n",
              "52416     5481            2            2       4           0              1   \n",
              "52417     6793            2            2       3           0              1   \n",
              "52418     7200            2            2       4           0              1   \n",
              "52419     7221            2            2       3           0              3   \n",
              "\n",
              "       RestrictiveSzShape  InadequateParking  PcntUnusable  MtRainier  ...  \\\n",
              "0                       0                  0             0          0  ...   \n",
              "1                       0                  0             0          0  ...   \n",
              "2                       0                  2             0          0  ...   \n",
              "3                       0                  2             0          0  ...   \n",
              "4                       0                  0             0          0  ...   \n",
              "...                   ...                ...           ...        ...  ...   \n",
              "52415                   0                  0             0          0  ...   \n",
              "52416                   0                  2             0          0  ...   \n",
              "52417                   0                  0             0          0  ...   \n",
              "52418                   0                  0             0          0  ...   \n",
              "52419                   0                  0             0          0  ...   \n",
              "\n",
              "       NativeGrowthProtEsmt  Easements  OtherDesignation  DeedRestrictions  \\\n",
              "0                         0          0                 0                 0   \n",
              "1                         0          0                 0                 0   \n",
              "2                         0          0                 0                 0   \n",
              "3                         0          0                 0                 0   \n",
              "4                         0          0                 0                 0   \n",
              "...                     ...        ...               ...               ...   \n",
              "52415                     0          0                 0                 0   \n",
              "52416                     0          0                 0                 0   \n",
              "52417                     0          0                 0                 0   \n",
              "52418                     0          0                 0                 0   \n",
              "52419                     0          0                 0                 0   \n",
              "\n",
              "       DevelopmentRightsPurch  WaterProblems  TranspConcurrency  \\\n",
              "0                           1              0                  0   \n",
              "1                           0              0                  0   \n",
              "2                           0              0                  0   \n",
              "3                           0              0                  0   \n",
              "4                           0              0                  0   \n",
              "...                       ...            ...                ...   \n",
              "52415                       0              0                  0   \n",
              "52416                       0              0                  0   \n",
              "52417                       0              0                  0   \n",
              "52418                       0              0                  0   \n",
              "52419                       0              0                  0   \n",
              "\n",
              "       OtherProblems        lat        long  \n",
              "0                  0  47.354019 -122.225166  \n",
              "1                  0  47.611248 -122.053154  \n",
              "2                  0  47.701248 -122.365784  \n",
              "3                  0  47.537918 -122.392845  \n",
              "4                  0  47.510227 -122.182167  \n",
              "...              ...        ...         ...  \n",
              "52415              0  47.769810 -122.367447  \n",
              "52416              0  47.510895 -122.366936  \n",
              "52417              0  47.766289 -122.358192  \n",
              "52418              0  47.769989 -122.364822  \n",
              "52419              0  39.042558  -89.322143  \n",
              "\n",
              "[52420 rows x 47 columns]"
            ],
            "text/html": [
              "\n",
              "  <div id=\"df-a5393832-587c-4bd0-a38c-17a55c132d4e\">\n",
              "    <div class=\"colab-df-container\">\n",
              "      <div>\n",
              "<style scoped>\n",
              "    .dataframe tbody tr th:only-of-type {\n",
              "        vertical-align: middle;\n",
              "    }\n",
              "\n",
              "    .dataframe tbody tr th {\n",
              "        vertical-align: top;\n",
              "    }\n",
              "\n",
              "    .dataframe thead th {\n",
              "        text-align: right;\n",
              "    }\n",
              "</style>\n",
              "<table border=\"1\" class=\"dataframe\">\n",
              "  <thead>\n",
              "    <tr style=\"text-align: right;\">\n",
              "      <th></th>\n",
              "      <th>SqFtLot</th>\n",
              "      <th>WaterSystem</th>\n",
              "      <th>SewerSystem</th>\n",
              "      <th>Access</th>\n",
              "      <th>Topography</th>\n",
              "      <th>StreetSurface</th>\n",
              "      <th>RestrictiveSzShape</th>\n",
              "      <th>InadequateParking</th>\n",
              "      <th>PcntUnusable</th>\n",
              "      <th>MtRainier</th>\n",
              "      <th>...</th>\n",
              "      <th>NativeGrowthProtEsmt</th>\n",
              "      <th>Easements</th>\n",
              "      <th>OtherDesignation</th>\n",
              "      <th>DeedRestrictions</th>\n",
              "      <th>DevelopmentRightsPurch</th>\n",
              "      <th>WaterProblems</th>\n",
              "      <th>TranspConcurrency</th>\n",
              "      <th>OtherProblems</th>\n",
              "      <th>lat</th>\n",
              "      <th>long</th>\n",
              "    </tr>\n",
              "  </thead>\n",
              "  <tbody>\n",
              "    <tr>\n",
              "      <th>0</th>\n",
              "      <td>6542712</td>\n",
              "      <td>1</td>\n",
              "      <td>1</td>\n",
              "      <td>4</td>\n",
              "      <td>0</td>\n",
              "      <td>1</td>\n",
              "      <td>0</td>\n",
              "      <td>0</td>\n",
              "      <td>0</td>\n",
              "      <td>0</td>\n",
              "      <td>...</td>\n",
              "      <td>0</td>\n",
              "      <td>0</td>\n",
              "      <td>0</td>\n",
              "      <td>0</td>\n",
              "      <td>1</td>\n",
              "      <td>0</td>\n",
              "      <td>0</td>\n",
              "      <td>0</td>\n",
              "      <td>47.354019</td>\n",
              "      <td>-122.225166</td>\n",
              "    </tr>\n",
              "    <tr>\n",
              "      <th>1</th>\n",
              "      <td>105850</td>\n",
              "      <td>2</td>\n",
              "      <td>1</td>\n",
              "      <td>3</td>\n",
              "      <td>0</td>\n",
              "      <td>2</td>\n",
              "      <td>0</td>\n",
              "      <td>0</td>\n",
              "      <td>0</td>\n",
              "      <td>0</td>\n",
              "      <td>...</td>\n",
              "      <td>0</td>\n",
              "      <td>0</td>\n",
              "      <td>0</td>\n",
              "      <td>0</td>\n",
              "      <td>0</td>\n",
              "      <td>0</td>\n",
              "      <td>0</td>\n",
              "      <td>0</td>\n",
              "      <td>47.611248</td>\n",
              "      <td>-122.053154</td>\n",
              "    </tr>\n",
              "    <tr>\n",
              "      <th>2</th>\n",
              "      <td>1667</td>\n",
              "      <td>2</td>\n",
              "      <td>2</td>\n",
              "      <td>4</td>\n",
              "      <td>0</td>\n",
              "      <td>1</td>\n",
              "      <td>0</td>\n",
              "      <td>2</td>\n",
              "      <td>0</td>\n",
              "      <td>0</td>\n",
              "      <td>...</td>\n",
              "      <td>0</td>\n",
              "      <td>0</td>\n",
              "      <td>0</td>\n",
              "      <td>0</td>\n",
              "      <td>0</td>\n",
              "      <td>0</td>\n",
              "      <td>0</td>\n",
              "      <td>0</td>\n",
              "      <td>47.701248</td>\n",
              "      <td>-122.365784</td>\n",
              "    </tr>\n",
              "    <tr>\n",
              "      <th>3</th>\n",
              "      <td>1872</td>\n",
              "      <td>2</td>\n",
              "      <td>2</td>\n",
              "      <td>4</td>\n",
              "      <td>0</td>\n",
              "      <td>1</td>\n",
              "      <td>0</td>\n",
              "      <td>2</td>\n",
              "      <td>0</td>\n",
              "      <td>0</td>\n",
              "      <td>...</td>\n",
              "      <td>0</td>\n",
              "      <td>0</td>\n",
              "      <td>0</td>\n",
              "      <td>0</td>\n",
              "      <td>0</td>\n",
              "      <td>0</td>\n",
              "      <td>0</td>\n",
              "      <td>0</td>\n",
              "      <td>47.537918</td>\n",
              "      <td>-122.392845</td>\n",
              "    </tr>\n",
              "    <tr>\n",
              "      <th>4</th>\n",
              "      <td>3480</td>\n",
              "      <td>2</td>\n",
              "      <td>2</td>\n",
              "      <td>4</td>\n",
              "      <td>0</td>\n",
              "      <td>1</td>\n",
              "      <td>0</td>\n",
              "      <td>0</td>\n",
              "      <td>0</td>\n",
              "      <td>0</td>\n",
              "      <td>...</td>\n",
              "      <td>0</td>\n",
              "      <td>0</td>\n",
              "      <td>0</td>\n",
              "      <td>0</td>\n",
              "      <td>0</td>\n",
              "      <td>0</td>\n",
              "      <td>0</td>\n",
              "      <td>0</td>\n",
              "      <td>47.510227</td>\n",
              "      <td>-122.182167</td>\n",
              "    </tr>\n",
              "    <tr>\n",
              "      <th>...</th>\n",
              "      <td>...</td>\n",
              "      <td>...</td>\n",
              "      <td>...</td>\n",
              "      <td>...</td>\n",
              "      <td>...</td>\n",
              "      <td>...</td>\n",
              "      <td>...</td>\n",
              "      <td>...</td>\n",
              "      <td>...</td>\n",
              "      <td>...</td>\n",
              "      <td>...</td>\n",
              "      <td>...</td>\n",
              "      <td>...</td>\n",
              "      <td>...</td>\n",
              "      <td>...</td>\n",
              "      <td>...</td>\n",
              "      <td>...</td>\n",
              "      <td>...</td>\n",
              "      <td>...</td>\n",
              "      <td>...</td>\n",
              "      <td>...</td>\n",
              "    </tr>\n",
              "    <tr>\n",
              "      <th>52415</th>\n",
              "      <td>6982</td>\n",
              "      <td>2</td>\n",
              "      <td>2</td>\n",
              "      <td>4</td>\n",
              "      <td>0</td>\n",
              "      <td>1</td>\n",
              "      <td>0</td>\n",
              "      <td>0</td>\n",
              "      <td>0</td>\n",
              "      <td>0</td>\n",
              "      <td>...</td>\n",
              "      <td>0</td>\n",
              "      <td>0</td>\n",
              "      <td>0</td>\n",
              "      <td>0</td>\n",
              "      <td>0</td>\n",
              "      <td>0</td>\n",
              "      <td>0</td>\n",
              "      <td>0</td>\n",
              "      <td>47.769810</td>\n",
              "      <td>-122.367447</td>\n",
              "    </tr>\n",
              "    <tr>\n",
              "      <th>52416</th>\n",
              "      <td>5481</td>\n",
              "      <td>2</td>\n",
              "      <td>2</td>\n",
              "      <td>4</td>\n",
              "      <td>0</td>\n",
              "      <td>1</td>\n",
              "      <td>0</td>\n",
              "      <td>2</td>\n",
              "      <td>0</td>\n",
              "      <td>0</td>\n",
              "      <td>...</td>\n",
              "      <td>0</td>\n",
              "      <td>0</td>\n",
              "      <td>0</td>\n",
              "      <td>0</td>\n",
              "      <td>0</td>\n",
              "      <td>0</td>\n",
              "      <td>0</td>\n",
              "      <td>0</td>\n",
              "      <td>47.510895</td>\n",
              "      <td>-122.366936</td>\n",
              "    </tr>\n",
              "    <tr>\n",
              "      <th>52417</th>\n",
              "      <td>6793</td>\n",
              "      <td>2</td>\n",
              "      <td>2</td>\n",
              "      <td>3</td>\n",
              "      <td>0</td>\n",
              "      <td>1</td>\n",
              "      <td>0</td>\n",
              "      <td>0</td>\n",
              "      <td>0</td>\n",
              "      <td>0</td>\n",
              "      <td>...</td>\n",
              "      <td>0</td>\n",
              "      <td>0</td>\n",
              "      <td>0</td>\n",
              "      <td>0</td>\n",
              "      <td>0</td>\n",
              "      <td>0</td>\n",
              "      <td>0</td>\n",
              "      <td>0</td>\n",
              "      <td>47.766289</td>\n",
              "      <td>-122.358192</td>\n",
              "    </tr>\n",
              "    <tr>\n",
              "      <th>52418</th>\n",
              "      <td>7200</td>\n",
              "      <td>2</td>\n",
              "      <td>2</td>\n",
              "      <td>4</td>\n",
              "      <td>0</td>\n",
              "      <td>1</td>\n",
              "      <td>0</td>\n",
              "      <td>0</td>\n",
              "      <td>0</td>\n",
              "      <td>0</td>\n",
              "      <td>...</td>\n",
              "      <td>0</td>\n",
              "      <td>0</td>\n",
              "      <td>0</td>\n",
              "      <td>0</td>\n",
              "      <td>0</td>\n",
              "      <td>0</td>\n",
              "      <td>0</td>\n",
              "      <td>0</td>\n",
              "      <td>47.769989</td>\n",
              "      <td>-122.364822</td>\n",
              "    </tr>\n",
              "    <tr>\n",
              "      <th>52419</th>\n",
              "      <td>7221</td>\n",
              "      <td>2</td>\n",
              "      <td>2</td>\n",
              "      <td>3</td>\n",
              "      <td>0</td>\n",
              "      <td>3</td>\n",
              "      <td>0</td>\n",
              "      <td>0</td>\n",
              "      <td>0</td>\n",
              "      <td>0</td>\n",
              "      <td>...</td>\n",
              "      <td>0</td>\n",
              "      <td>0</td>\n",
              "      <td>0</td>\n",
              "      <td>0</td>\n",
              "      <td>0</td>\n",
              "      <td>0</td>\n",
              "      <td>0</td>\n",
              "      <td>0</td>\n",
              "      <td>39.042558</td>\n",
              "      <td>-89.322143</td>\n",
              "    </tr>\n",
              "  </tbody>\n",
              "</table>\n",
              "<p>52420 rows × 47 columns</p>\n",
              "</div>\n",
              "      <button class=\"colab-df-convert\" onclick=\"convertToInteractive('df-a5393832-587c-4bd0-a38c-17a55c132d4e')\"\n",
              "              title=\"Convert this dataframe to an interactive table.\"\n",
              "              style=\"display:none;\">\n",
              "        \n",
              "  <svg xmlns=\"http://www.w3.org/2000/svg\" height=\"24px\"viewBox=\"0 0 24 24\"\n",
              "       width=\"24px\">\n",
              "    <path d=\"M0 0h24v24H0V0z\" fill=\"none\"/>\n",
              "    <path d=\"M18.56 5.44l.94 2.06.94-2.06 2.06-.94-2.06-.94-.94-2.06-.94 2.06-2.06.94zm-11 1L8.5 8.5l.94-2.06 2.06-.94-2.06-.94L8.5 2.5l-.94 2.06-2.06.94zm10 10l.94 2.06.94-2.06 2.06-.94-2.06-.94-.94-2.06-.94 2.06-2.06.94z\"/><path d=\"M17.41 7.96l-1.37-1.37c-.4-.4-.92-.59-1.43-.59-.52 0-1.04.2-1.43.59L10.3 9.45l-7.72 7.72c-.78.78-.78 2.05 0 2.83L4 21.41c.39.39.9.59 1.41.59.51 0 1.02-.2 1.41-.59l7.78-7.78 2.81-2.81c.8-.78.8-2.07 0-2.86zM5.41 20L4 18.59l7.72-7.72 1.47 1.35L5.41 20z\"/>\n",
              "  </svg>\n",
              "      </button>\n",
              "      \n",
              "  <style>\n",
              "    .colab-df-container {\n",
              "      display:flex;\n",
              "      flex-wrap:wrap;\n",
              "      gap: 12px;\n",
              "    }\n",
              "\n",
              "    .colab-df-convert {\n",
              "      background-color: #E8F0FE;\n",
              "      border: none;\n",
              "      border-radius: 50%;\n",
              "      cursor: pointer;\n",
              "      display: none;\n",
              "      fill: #1967D2;\n",
              "      height: 32px;\n",
              "      padding: 0 0 0 0;\n",
              "      width: 32px;\n",
              "    }\n",
              "\n",
              "    .colab-df-convert:hover {\n",
              "      background-color: #E2EBFA;\n",
              "      box-shadow: 0px 1px 2px rgba(60, 64, 67, 0.3), 0px 1px 3px 1px rgba(60, 64, 67, 0.15);\n",
              "      fill: #174EA6;\n",
              "    }\n",
              "\n",
              "    [theme=dark] .colab-df-convert {\n",
              "      background-color: #3B4455;\n",
              "      fill: #D2E3FC;\n",
              "    }\n",
              "\n",
              "    [theme=dark] .colab-df-convert:hover {\n",
              "      background-color: #434B5C;\n",
              "      box-shadow: 0px 1px 3px 1px rgba(0, 0, 0, 0.15);\n",
              "      filter: drop-shadow(0px 1px 2px rgba(0, 0, 0, 0.3));\n",
              "      fill: #FFFFFF;\n",
              "    }\n",
              "  </style>\n",
              "\n",
              "      <script>\n",
              "        const buttonEl =\n",
              "          document.querySelector('#df-a5393832-587c-4bd0-a38c-17a55c132d4e button.colab-df-convert');\n",
              "        buttonEl.style.display =\n",
              "          google.colab.kernel.accessAllowed ? 'block' : 'none';\n",
              "\n",
              "        async function convertToInteractive(key) {\n",
              "          const element = document.querySelector('#df-a5393832-587c-4bd0-a38c-17a55c132d4e');\n",
              "          const dataTable =\n",
              "            await google.colab.kernel.invokeFunction('convertToInteractive',\n",
              "                                                     [key], {});\n",
              "          if (!dataTable) return;\n",
              "\n",
              "          const docLinkHtml = 'Like what you see? Visit the ' +\n",
              "            '<a target=\"_blank\" href=https://colab.research.google.com/notebooks/data_table.ipynb>data table notebook</a>'\n",
              "            + ' to learn more about interactive tables.';\n",
              "          element.innerHTML = '';\n",
              "          dataTable['output_type'] = 'display_data';\n",
              "          await google.colab.output.renderOutput(dataTable, element);\n",
              "          const docLink = document.createElement('div');\n",
              "          docLink.innerHTML = docLinkHtml;\n",
              "          element.appendChild(docLink);\n",
              "        }\n",
              "      </script>\n",
              "    </div>\n",
              "  </div>\n",
              "  "
            ]
          },
          "metadata": {},
          "execution_count": 17
        }
      ]
    },
    {
      "cell_type": "markdown",
      "source": [
        "### **Normalizacja danych**\n",
        "Mamy różne atrybuty i różne wartości np. w SqFtLot mamy duże i małe wartości, rozsrtrzelone mocno. Musimy przetransformować dane, pozmieniać wartości żeby różnice były mniejsze, żeby rozkłady prawdopodobieństwa do siebie się upodobniły ale jednocześnie, żeby zależności miedzy nimi dalej były te same."
      ],
      "metadata": {
        "id": "Re_QCS_4Zb8Z"
      }
    },
    {
      "cell_type": "code",
      "source": [
        "houses = (houses - houses.mean()) / (houses.max() - houses.min()) \n",
        "#pomnijszamy przez wartość średnią i dzielimy przez różnicę wartości maksymalną i minimalną w całej ramce danych\n",
        "houses = houses[['lat', 'long', 'SqFtLot']] #zostawiamy sobie te trzy atrybuty które nas interesują"
      ],
      "metadata": {
        "id": "N-wEDCWTbHhY"
      },
      "execution_count": 18,
      "outputs": []
    },
    {
      "cell_type": "code",
      "source": [
        "houses\n",
        "houses2=houses"
      ],
      "metadata": {
        "id": "conWzgIpeLGy"
      },
      "execution_count": 19,
      "outputs": []
    },
    {
      "cell_type": "markdown",
      "source": [
        "### Podział na trenig i test\n",
        "Trening 80% test 20% \n"
      ],
      "metadata": {
        "id": "-C-3-JIufTKG"
      }
    },
    {
      "cell_type": "code",
      "source": [
        "test_rows = random.sample(houses.index.tolist(), int(round(len(houses)*.2)))\n",
        "train_rows = set(range(len(houses))) - set(test_rows) "
      ],
      "metadata": {
        "id": "IkVE6X5nvYv8"
      },
      "execution_count": 20,
      "outputs": []
    },
    {
      "cell_type": "code",
      "source": [
        "df_test = houses.loc[test_rows]\n",
        "df_train = houses.drop(test_rows)"
      ],
      "metadata": {
        "id": "HgRIJlX9zkq4"
      },
      "execution_count": 21,
      "outputs": []
    },
    {
      "cell_type": "code",
      "source": [
        "test_values = values.loc[test_rows] #indekser loc jak wyżej\n",
        "train_values = values.loc[train_rows]"
      ],
      "metadata": {
        "colab": {
          "base_uri": "https://localhost:8080/"
        },
        "id": "TpnWTOii02pl",
        "outputId": "2b77b157-c2de-4906-ef96-6d4caf24c4bd"
      },
      "execution_count": 22,
      "outputs": [
        {
          "output_type": "stream",
          "name": "stderr",
          "text": [
            "<ipython-input-22-5fb2b1cbe0e7>:2: FutureWarning: Passing a set as an indexer is deprecated and will raise in a future version. Use a list instead.\n",
            "  train_values = values.loc[train_rows]\n"
          ]
        }
      ]
    },
    {
      "cell_type": "markdown",
      "source": [
        "liczebność danych treningowych:"
      ],
      "metadata": {
        "id": "0KmqBrZ51ocK"
      }
    },
    {
      "cell_type": "code",
      "source": [
        "len(train_values)"
      ],
      "metadata": {
        "colab": {
          "base_uri": "https://localhost:8080/"
        },
        "id": "34KM5xev1xbe",
        "outputId": "0b337a41-580d-4b92-e635-9528c3498829"
      },
      "execution_count": 23,
      "outputs": [
        {
          "output_type": "execute_result",
          "data": {
            "text/plain": [
              "41936"
            ]
          },
          "metadata": {},
          "execution_count": 23
        }
      ]
    },
    {
      "cell_type": "markdown",
      "source": [
        "liczebność danych testowych:"
      ],
      "metadata": {
        "id": "IzqvG-ve2Pvz"
      }
    },
    {
      "cell_type": "code",
      "source": [
        "len(test_values)"
      ],
      "metadata": {
        "colab": {
          "base_uri": "https://localhost:8080/"
        },
        "id": "I7zbyjWT2DnP",
        "outputId": "6ad2ec01-3451-4641-92e2-47db5597a6bb"
      },
      "execution_count": 24,
      "outputs": [
        {
          "output_type": "execute_result",
          "data": {
            "text/plain": [
              "10484"
            ]
          },
          "metadata": {},
          "execution_count": 24
        }
      ]
    },
    {
      "cell_type": "markdown",
      "source": [
        "## KNN implementujemy algorytm\n",
        "Jak wejdziemy w źródło tego algorytmu klasy KDTree to jest tam odległość Minkowskiego, matematyka nauczyciela Einsteina 🦾"
      ],
      "metadata": {
        "id": "khfJONRj2jjg"
      }
    },
    {
      "cell_type": "code",
      "source": [
        "kdtree = KDTree(df_train) #tworzymy obiekt regresdora KNN"
      ],
      "metadata": {
        "id": "9jgjd6YT2wEP"
      },
      "execution_count": 25,
      "outputs": []
    },
    {
      "cell_type": "markdown",
      "source": [
        "Następnie tworzymy funkcję, która przydzieli prognozę przekazanemu obiektowi na podstawie liczby najbliższych sąsiadów (parametr k)."
      ],
      "metadata": {
        "id": "pIySB91LbhZa"
      }
    },
    {
      "cell_type": "code",
      "source": [
        "def predict(query_point, k):#query_point czyli dla konkretnego wiersza z naszej bazy będziemy przydzielać predykcję\n",
        "  _, idx = kdtree.query(query_point, k) #ta metoda zwraca nam dwie wartości 'd' i 'i'\n",
        "  # gdzie d to tablica odległości do najbliższych obiektów, natomiast 'i' jest indeksami najbliższych sąsiadów\n",
        "  # w tym przypadku nie korzystamy z pierwszej wartości, dajemy podkreślnik\n",
        "  return np.mean(train_values.iloc[idx])"
      ],
      "metadata": {
        "id": "RdlW1diA47Ro"
      },
      "execution_count": 26,
      "outputs": []
    },
    {
      "cell_type": "markdown",
      "source": [
        "Dla wartości K (liczba najbliższych sąsiadów) równej 5 dokonujemy regresji obiektów pochodzących z systemu testowego, a następnie porównujemy wyniki z wynikami oryginalnymi przy użyciu funkcji średniego błędu bezwzględnego."
      ],
      "metadata": {
        "id": "W14xp0F5dUu6"
      }
    },
    {
      "cell_type": "code",
      "source": [
        "train_predicted_values = [] #pusta lista, miejsce na wartości które będą przewidywane\n",
        "train_actual_values = []\n",
        "\n",
        "#wstawimy na sztywno 5 najbliższych sąsiadów, później będziemy optymalizować\n",
        "for _id, row in df_train.iterrows():\n",
        "  prediction = predict(row, 5) \n",
        "  actual_value = train_values[_id]\n",
        "\n",
        "  train_predicted_values.append(prediction)\n",
        "  train_actual_values.append(actual_value)"
      ],
      "metadata": {
        "id": "-H-DoJc37Qha"
      },
      "execution_count": 27,
      "outputs": []
    },
    {
      "cell_type": "markdown",
      "source": [
        "właściwy wynik:"
      ],
      "metadata": {
        "id": "dXU4k5qU_pdF"
      }
    },
    {
      "cell_type": "code",
      "source": [
        "mae = mean_absolute_error(train_values, train_predicted_values)\n",
        "f'Średni błąd bezwględny: {mae} $ '"
      ],
      "metadata": {
        "colab": {
          "base_uri": "https://localhost:8080/",
          "height": 35
        },
        "id": "JVxWpTaa_khH",
        "outputId": "7ed83cd1-5e0c-4f05-fcb7-f57e3f636e51"
      },
      "execution_count": 28,
      "outputs": [
        {
          "output_type": "execute_result",
          "data": {
            "text/plain": [
              "'Średni błąd bezwględny: 60267.85086798932 $ '"
            ],
            "application/vnd.google.colaboratory.intrinsic+json": {
              "type": "string"
            }
          },
          "metadata": {},
          "execution_count": 28
        }
      ]
    },
    {
      "cell_type": "markdown",
      "source": [
        "😾48 minut \n"
      ],
      "metadata": {
        "id": "KKQlALoBB4da"
      }
    },
    {
      "cell_type": "markdown",
      "source": [
        "###Zadnie-regresja KNN\n",
        "(opracowanie własne)\n",
        "polega na znalezioniu optymalnego K, dla średniego błedu bezwglednego. W przedziale K(3-29)\n",
        "Przedstawienie tego na wykresie."
      ],
      "metadata": {
        "id": "9qOV-X37b_Z6"
      }
    },
    {
      "cell_type": "code",
      "source": [
        "train_predicted_values = [] #pusta lista, miejsce na wartości które będą przewidywane\n",
        "train_actual_values = []\n",
        "listadlakibledu = []\n",
        "\n",
        "for k in range(3,30):\n",
        "  for _id, row in df_train.iterrows():\n",
        "    prediction = predict(row, k) \n",
        "    actual_value = train_values[_id]\n",
        "\n",
        "    train_predicted_values.append(prediction)\n",
        "    train_actual_values.append(actual_value)\n",
        "  blad = mean_absolute_error(train_predicted_values, train_actual_values)\n",
        "  print(f'Wartosc sredniego bledu bezwzglednego na systemie treningowym dla {k} wynosi: {blad}')\n",
        "  listadlakibledu.append((k,blad))\n",
        "  \n",
        "\n",
        " "
      ],
      "metadata": {
        "colab": {
          "base_uri": "https://localhost:8080/"
        },
        "id": "gch4Wexwc3XJ",
        "outputId": "e77f53d8-cad9-4249-e755-2303b2bfeae2"
      },
      "execution_count": 29,
      "outputs": [
        {
          "output_type": "stream",
          "name": "stdout",
          "text": [
            "Wartosc sredniego bledu bezwzglednego na systemie treningowym dla 3 wynosi: 52904.42168224596\n",
            "Wartosc sredniego bledu bezwzglednego na systemie treningowym dla 4 wynosi: 55111.796006613244\n",
            "Wartosc sredniego bledu bezwzglednego na systemie treningowym dla 5 wynosi: 56830.48096040527\n",
            "Wartosc sredniego bledu bezwzglednego na systemie treningowym dla 6 wynosi: 58232.56568540951\n",
            "Wartosc sredniego bledu bezwzglednego na systemie treningowym dla 7 wynosi: 59409.58679915881\n",
            "Wartosc sredniego bledu bezwzglednego na systemie treningowym dla 8 wynosi: 60423.99509589064\n",
            "Wartosc sredniego bledu bezwzglednego na systemie treningowym dla 9 wynosi: 61301.64023350342\n",
            "Wartosc sredniego bledu bezwzglednego na systemie treningowym dla 10 wynosi: 62074.31510583209\n",
            "Wartosc sredniego bledu bezwzglednego na systemie treningowym dla 11 wynosi: 62764.00617402549\n",
            "Wartosc sredniego bledu bezwzglednego na systemie treningowym dla 12 wynosi: 63382.59881818022\n",
            "Wartosc sredniego bledu bezwzglednego na systemie treningowym dla 13 wynosi: 63943.65777123195\n",
            "Wartosc sredniego bledu bezwzglednego na systemie treningowym dla 14 wynosi: 64459.84761861258\n",
            "Wartosc sredniego bledu bezwzglednego na systemie treningowym dla 15 wynosi: 64941.21278677945\n",
            "Wartosc sredniego bledu bezwzglednego na systemie treningowym dla 16 wynosi: 65391.31811619913\n",
            "Wartosc sredniego bledu bezwzglednego na systemie treningowym dla 17 wynosi: 65810.28977807272\n",
            "Wartosc sredniego bledu bezwzglednego na systemie treningowym dla 18 wynosi: 66203.24619948151\n",
            "Wartosc sredniego bledu bezwzglednego na systemie treningowym dla 19 wynosi: 66572.50138216828\n",
            "Wartosc sredniego bledu bezwzglednego na systemie treningowym dla 20 wynosi: 66920.87931751074\n",
            "Wartosc sredniego bledu bezwzglednego na systemie treningowym dla 21 wynosi: 67250.26092190316\n",
            "Wartosc sredniego bledu bezwzglednego na systemie treningowym dla 22 wynosi: 67561.68234646243\n",
            "Wartosc sredniego bledu bezwzglednego na systemie treningowym dla 23 wynosi: 67858.22242097266\n",
            "Wartosc sredniego bledu bezwzglednego na systemie treningowym dla 24 wynosi: 68139.71309391268\n",
            "Wartosc sredniego bledu bezwzglednego na systemie treningowym dla 25 wynosi: 68408.3546997693\n",
            "Wartosc sredniego bledu bezwzglednego na systemie treningowym dla 26 wynosi: 68664.39311996242\n",
            "Wartosc sredniego bledu bezwzglednego na systemie treningowym dla 27 wynosi: 68907.50337436327\n",
            "Wartosc sredniego bledu bezwzglednego na systemie treningowym dla 28 wynosi: 69140.11079474939\n",
            "Wartosc sredniego bledu bezwzglednego na systemie treningowym dla 29 wynosi: 69362.96589047973\n"
          ]
        }
      ]
    },
    {
      "cell_type": "markdown",
      "source": [
        "wyświetlenie najmniejszego błędu:"
      ],
      "metadata": {
        "id": "QKXaFX1sypFn"
      }
    },
    {
      "cell_type": "code",
      "source": [
        "f'{min(listadlakibledu)}'"
      ],
      "metadata": {
        "colab": {
          "base_uri": "https://localhost:8080/",
          "height": 35
        },
        "id": "_fDvLQFeoYsW",
        "outputId": "04bbe56a-10b4-4c53-d601-3df16819b643"
      },
      "execution_count": 30,
      "outputs": [
        {
          "output_type": "execute_result",
          "data": {
            "text/plain": [
              "'(3, 52904.42168224596)'"
            ],
            "application/vnd.google.colaboratory.intrinsic+json": {
              "type": "string"
            }
          },
          "metadata": {},
          "execution_count": 30
        }
      ]
    },
    {
      "cell_type": "code",
      "source": [
        "# konwersja krotek na dwie listy - jedną dla wartości x, drugą dla wartości y\n",
        "x_values = [item[0] for item in listadlakibledu]\n",
        "y_values = [item[1] for item in listadlakibledu]\n",
        "\n",
        "# utworzenie wykresu liniowego\n",
        "plt.plot(x_values, y_values)\n",
        "\n",
        "# dodanie punktów dla każdej wartości x\n",
        "plt.scatter(x_values, y_values, color='red')\n",
        "\n",
        "# dodanie tytułu i etykiet osi\n",
        "plt.title('Ceny nieruchomości')\n",
        "plt.xlabel('X')\n",
        "plt.ylabel('Y')\n",
        "\n",
        "# wyświetlenie wykresu\n",
        "plt.show()"
      ],
      "metadata": {
        "colab": {
          "base_uri": "https://localhost:8080/",
          "height": 472
        },
        "id": "gBAgnpy1pIEP",
        "outputId": "01c527df-d0e3-453a-a506-c04afaa7f5cf"
      },
      "execution_count": 31,
      "outputs": [
        {
          "output_type": "display_data",
          "data": {
            "text/plain": [
              "<Figure size 640x480 with 1 Axes>"
            ],
            "image/png": "[encoded data removed]"
          },
          "metadata": {}
        }
      ]
    },
    {
      "cell_type": "code",
      "source": [
        "# utworzenie dwóch list - jednej dla wartości, drugiej dla etykiet\n",
        "values = [item[1] for item in listadlakibledu]\n",
        "labels = [item[0] for item in listadlakibledu]\n",
        "\n",
        "# znajdowanie najmniejszej wartości i utworzenie listy explode\n",
        "min_value = min(values)\n",
        "explode = [0.1 if value == min_value else 0 for value in values]\n",
        "\n",
        "# utworzenie wykresu kołowego procentowego\n",
        "plt.pie(values, labels=labels, autopct='', explode=explode)\n",
        "\n",
        "# dodanie tytułu\n",
        "plt.title('średni błąd dla k(3,29)')\n",
        "\n",
        "# wyświetlenie wykresu\n",
        "plt.show()"
      ],
      "metadata": {
        "colab": {
          "base_uri": "https://localhost:8080/",
          "height": 429
        },
        "id": "xaxXXBJMtLg5",
        "outputId": "cf4f21e0-056a-4955-c9f6-342854e59f87"
      },
      "execution_count": 32,
      "outputs": [
        {
          "output_type": "display_data",
          "data": {
            "text/plain": [
              "<Figure size 640x480 with 1 Axes>"
            ],
            "image/png": "[encoded data removed]"
          },
          "metadata": {}
        }
      ]
    },
    {
      "cell_type": "markdown",
      "source": [
        "### Dalsza część, szukanie optymalnych proporcji danych treningowych i testowych dla różnych k\n",
        "\n",
        "Znaleźć \"najlepszą\" wartość K dla następujących podziałów na system treningowy i testowy:\n",
        "60% system treningowy i 40% system testowy\n",
        "65% system treningowy i 35% system testowy\n",
        "70% system treningowy i 30% system testowy\n",
        "75% system treningowy i 25% system testowy\n",
        "80% system treningowy i 20 system testowy\n",
        "🐌3:18\n"
      ],
      "metadata": {
        "id": "aGeZfAe8zdqH"
      }
    },
    {
      "cell_type": "code",
      "source": [
        "\n",
        "proporcje = [.4,.35,.3,.25,.2]\n",
        "wyniki = []\n",
        "for i in proporcje:\n",
        "  houses = pd.read_csv('/content/data.csv')\n",
        "  values = houses['AppraisedValue']\n",
        "  houses.drop('AppraisedValue',1, inplace=True)\n",
        "  houses = (houses - houses.mean()) / (houses.max() - houses.min()) \n",
        "  houses = houses[['lat', 'long', 'SqFtLot']]\n",
        "\n",
        "  test_rows = random.sample(houses.index.tolist(), int(round(len(houses)*i)))\n",
        "  train_rows = set(range(len(houses))) - set(test_rows)\n",
        "\n",
        "  df_test = houses.loc[test_rows]\n",
        "  df_train = houses.drop(test_rows)\n",
        "  \n",
        "  test_values = values.loc[test_rows]\n",
        "  train_values = values.loc[train_rows]\n",
        "  kdtree = KDTree(df_train) \n",
        "  train_predicted_values = [] \n",
        "  train_actual_values = []\n",
        "  listadlakibledu = []\n",
        "  for k in range(3,30):\n",
        "    for _id, row in df_train.iterrows():\n",
        "      prediction = predict(row, k) \n",
        "      actual_value = train_values[_id]\n",
        "\n",
        "      train_predicted_values.append(prediction)\n",
        "      train_actual_values.append(actual_value)\n",
        "    blad = mean_absolute_error(train_predicted_values, train_actual_values)\n",
        "    wyniki.append((i,k,blad))    "
      ],
      "metadata": {
        "id": "JJTcj7plNnvU",
        "colab": {
          "base_uri": "https://localhost:8080/"
        },
        "outputId": "15f58623-4852-4a6a-f49f-cac3d8df339e"
      },
      "execution_count": 33,
      "outputs": [
        {
          "metadata": {
            "tags": null
          },
          "name": "stderr",
          "output_type": "stream",
          "text": [
            "<ipython-input-33-15b4e04c2f92>:6: FutureWarning: In a future version of pandas all arguments of DataFrame.drop except for the argument 'labels' will be keyword-only.\n",
            "  houses.drop('AppraisedValue',1, inplace=True)\n",
            "<ipython-input-33-15b4e04c2f92>:17: FutureWarning: Passing a set as an indexer is deprecated and will raise in a future version. Use a list instead.\n",
            "  train_values = values.loc[train_rows]\n",
            "<ipython-input-33-15b4e04c2f92>:6: FutureWarning: In a future version of pandas all arguments of DataFrame.drop except for the argument 'labels' will be keyword-only.\n",
            "  houses.drop('AppraisedValue',1, inplace=True)\n",
            "<ipython-input-33-15b4e04c2f92>:17: FutureWarning: Passing a set as an indexer is deprecated and will raise in a future version. Use a list instead.\n",
            "  train_values = values.loc[train_rows]\n",
            "<ipython-input-33-15b4e04c2f92>:6: FutureWarning: In a future version of pandas all arguments of DataFrame.drop except for the argument 'labels' will be keyword-only.\n",
            "  houses.drop('AppraisedValue',1, inplace=True)\n",
            "<ipython-input-33-15b4e04c2f92>:17: FutureWarning: Passing a set as an indexer is deprecated and will raise in a future version. Use a list instead.\n",
            "  train_values = values.loc[train_rows]\n",
            "<ipython-input-33-15b4e04c2f92>:6: FutureWarning: In a future version of pandas all arguments of DataFrame.drop except for the argument 'labels' will be keyword-only.\n",
            "  houses.drop('AppraisedValue',1, inplace=True)\n",
            "<ipython-input-33-15b4e04c2f92>:17: FutureWarning: Passing a set as an indexer is deprecated and will raise in a future version. Use a list instead.\n",
            "  train_values = values.loc[train_rows]\n",
            "<ipython-input-33-15b4e04c2f92>:6: FutureWarning: In a future version of pandas all arguments of DataFrame.drop except for the argument 'labels' will be keyword-only.\n",
            "  houses.drop('AppraisedValue',1, inplace=True)\n",
            "<ipython-input-33-15b4e04c2f92>:17: FutureWarning: Passing a set as an indexer is deprecated and will raise in a future version. Use a list instead.\n",
            "  train_values = values.loc[train_rows]\n"
          ]
        }
      ]
    },
    {
      "cell_type": "code",
      "source": [
        "f'{wyniki}'"
      ],
      "metadata": {
        "colab": {
          "base_uri": "https://localhost:8080/",
          "height": 139
        },
        "id": "geFn6SSO3yWS",
        "outputId": "7282cbfc-5378-492d-c3d2-f8f13a6344f0"
      },
      "execution_count": 37,
      "outputs": [
        {
          "output_type": "execute_result",
          "data": {
            "text/plain": [
              "'[(0.4, 3, 53441.63725677222), (0.4, 4, 55915.074097036755), (0.4, 5, 57746.772116240616), (0.4, 6, 59181.68526882233), (0.4, 7, 60350.55704211405), (0.4, 8, 61343.60813073814), (0.4, 9, 62220.38759142715), (0.4, 10, 62991.39863275374), (0.4, 11, 63682.68160081311), (0.4, 12, 64310.327047444676), (0.4, 13, 64885.096641326665), (0.4, 14, 65415.3774664763), (0.4, 15, 65909.7957667052), (0.4, 16, 66370.25905227433), (0.4, 17, 66806.11860444518), (0.4, 18, 67215.10025624283), (0.4, 19, 67598.73544126234), (0.4, 20, 67961.40243435484), (0.4, 21, 68303.58381894376), (0.4, 22, 68627.24502411245), (0.4, 23, 68935.42212835656), (0.4, 24, 69228.58593221052), (0.4, 25, 69506.833143503), (0.4, 26, 69773.66554849019), (0.4, 27, 70027.9437381153), (0.4, 28, 70272.72471106512), (0.4, 29, 70507.52430295228), (0.35, 3, 54377.06476291101), (0.35, 4, 56671.15303784032), (0.35, 5, 58416.73408775929), (0.35, 6, 59853.68063948483), (0.35, 7, 61084.2821823871), (0.35, 8, 62146.14792811209), (0.35, 9, 63050.847735485964), (0.35, 10, 63830.44138921761), (0.35, 11, 64522.274766573195), (0.35, 12, 65136.0926581938), (0.35, 13, 65699.12945150115), (0.35, 14, 66222.26117721925), (0.35, 15, 66706.76364132973), (0.35, 16, 67158.78865618538), (0.35, 17, 67573.1678574738), (0.35, 18, 67959.91118793558), (0.35, 19, 68322.2800924499), (0.35, 20, 68662.74927823395), (0.35, 21, 68986.43929147895), (0.35, 22, 69293.10628036855), (0.35, 23, 69582.6986456772), (0.35, 24, 69858.07728587286), (0.35, 25, 70120.50103625849), (0.35, 26, 70372.9033672351), (0.35, 27, 70615.33097033744), (0.35, 28, 70849.2190170561), (0.35, 29, 71073.63820900004), (0.3, 3, 53163.81171308661), (0.3, 4, 55354.64014893443), (0.3, 5, 57062.11998737304), (0.3, 6, 58431.764712555174), (0.3, 7, 59584.28775210427), (0.3, 8, 60576.01441427105), (0.3, 9, 61443.75243932105), (0.3, 10, 62206.41302992018), (0.3, 11, 62886.041660775845), (0.3, 12, 63499.28620974704), (0.3, 13, 64056.642277306724), (0.3, 14, 64575.88843794009), (0.3, 15, 65054.29175866372), (0.3, 16, 65503.38880855626), (0.3, 17, 65922.96937822785), (0.3, 18, 66319.49158406413), (0.3, 19, 66692.02776383221), (0.3, 20, 67047.15421431752), (0.3, 21, 67381.05565951881), (0.3, 22, 67701.22306878389), (0.3, 23, 68002.48162423132), (0.3, 24, 68288.57128418787), (0.3, 25, 68562.9613211066), (0.3, 26, 68823.32919535934), (0.3, 27, 69070.97115049373), (0.3, 28, 69308.48945026015), (0.3, 29, 69537.37875528788), (0.25, 3, 53071.92908559074), (0.25, 4, 55369.57767709526), (0.25, 5, 57056.264658527274), (0.25, 6, 58436.18660699903), (0.25, 7, 59573.7462355093), (0.25, 8, 60552.94861215075), (0.25, 9, 61404.73112006692), (0.25, 10, 62161.74669750102), (0.25, 11, 62843.128354967244), (0.25, 12, 63457.11158373776), (0.25, 13, 64013.712040708415), (0.25, 14, 64530.831215910184), (0.25, 15, 65009.28339501548), (0.25, 16, 65454.34858564604), (0.25, 17, 65868.79835301424), (0.25, 18, 66255.31278687133), (0.25, 19, 66621.37340167217), (0.25, 20, 66967.30203587067), (0.25, 21, 67295.455402924), (0.25, 22, 67606.83184751193), (0.25, 23, 67904.36300881732), (0.25, 24, 68187.0795767477), (0.25, 25, 68458.15270524734), (0.25, 26, 68716.74230764608), (0.25, 27, 68964.87700921498), (0.25, 28, 69201.82673898691), (0.25, 29, 69429.7312489611), (0.2, 3, 52685.272224341854), (0.2, 4, 55032.9055167398), (0.2, 5, 56793.438729651534), (0.2, 6, 58211.565279235016), (0.2, 7, 59402.944348122306), (0.2, 8, 60411.40387997697), (0.2, 9, 61288.09530167609), (0.2, 10, 62069.16543273567), (0.2, 11, 62758.07872522291), (0.2, 12, 63375.768481627245), (0.2, 13, 63947.919562229625), (0.2, 14, 64470.96726861792), (0.2, 15, 64958.0907893612), (0.2, 16, 65408.807999761484), (0.2, 17, 65828.12042918465), (0.2, 18, 66224.2117922199), (0.2, 19, 66597.86753871402), (0.2, 20, 66952.12814243358), (0.2, 21, 67288.1502567257), (0.2, 22, 67606.2249411662), (0.2, 23, 67907.28741850262), (0.2, 24, 68193.17588322231), (0.2, 25, 68465.40940793199), (0.2, 26, 68726.8007219701), (0.2, 27, 68977.15996328078), (0.2, 28, 69218.00889323173), (0.2, 29, 69449.41366241446)]'"
            ],
            "application/vnd.google.colaboratory.intrinsic+json": {
              "type": "string"
            }
          },
          "metadata": {},
          "execution_count": 37
        }
      ]
    },
    {
      "cell_type": "code",
      "source": [
        "f'{min(wyniki)}'"
      ],
      "metadata": {
        "colab": {
          "base_uri": "https://localhost:8080/",
          "height": 35
        },
        "id": "Ydc6z5pHAmMd",
        "outputId": "3d350afc-bc12-4afb-bf32-47c9567d3053"
      },
      "execution_count": 40,
      "outputs": [
        {
          "output_type": "execute_result",
          "data": {
            "text/plain": [
              "'(0.2, 3, 52685.272224341854)'"
            ],
            "application/vnd.google.colaboratory.intrinsic+json": {
              "type": "string"
            }
          },
          "metadata": {},
          "execution_count": 40
        }
      ]
    }
  ]
}